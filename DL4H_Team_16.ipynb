{
  "cells": [
    {
      "cell_type": "markdown",
      "metadata": {
        "id": "j01aH0PR4Sg-"
      },
      "source": [
        "# Final Project - Team 16\n",
        "\n",
        "- **Paper Name**: Deep learning enables accurate diagnosis of novel coronavirus (COVID-19) with CT images\n",
        "- **Paper Link**: https://www.medrxiv.org/content/10.1101/2020.02.23.20026930v1\n",
        "- **GitHub Repo**: https://github.com/biomed-AI/COVID19-CT"
      ]
    },
    {
      "cell_type": "markdown",
      "metadata": {
        "id": "jjxq_goOiq5S"
      },
      "source": [
        "# Notebook Instructions\n",
        "- This notebook has been tested to run in ***Google Colab***, with *GPU (support CUDA) available*.\n",
        "- The notebook may have a GPU issue when directly running in the Google Colab environment (Please consider upgrading to the paid version for more GPU available)."
      ]
    },
    {
      "cell_type": "markdown",
      "metadata": {
        "id": "MQ0sNuMePBXx"
      },
      "source": [
        "# Introduction\n",
        "As the world grapples with the COVID-19 health crisis, cutting-edge diagnostic methods like CT scans have emerged as key tools. When combined with AI, these methods open up new possibilities for swift and accurate virus detection. Our improved model uses state-of-the-art deep learning, including the ResNet50 combined with a Feature Pyramid Network (FPN), to distinguish COVID-19 from other lung conditions. The use of AI can lead to quick adjustments in treatment plans and help lessen the strain on our healthcare systems.\n",
        "\n",
        "## I. Background of the Problem\n",
        "### 1. Type of Problem\n",
        "- The research focuses on detecting COVID-19 from CT images, falling under disease prediction and medical image evaluation. It harnesses deep learning to extract features and classify images, contributing to better diagnostic precision with the help of AI in medical imaging.\n",
        "\n",
        "### 2. Significance of the Problem\n",
        "- Fast and correct detection of COVID-19 is vital because of its rapid spread and severe health risks. CT images become particularly important when other test options are limited or delayed. AI's role in improving diagnostic accuracy is critical for prompt treatment and managing the virus's spread, which helps reduce its effects on communities and health systems.\n",
        "\n",
        "### 3. Challenges in Diagnosis\n",
        "- The task is difficult due to the nuanced differences between COVID-19 and other pneumonia in CT images. High-accuracy models are needed to distinguish these small yet crucial details. The variability in how pneumonia appears in images adds complexity, demanding more sophisticated and versatile AI models.\n",
        "\n",
        "### 4. Advanced Methods and Their Impact\n",
        "- Previously, traditional neural networks were used, but they lacked the precision for detailed classification from CT scans. Our study enhances these methods, improving accuracy and interpretability. With an AUC of 0.95 and impressive recall and precision, our AI diagnostic system outperforms traditional approaches, providing healthcare professionals with a dependable tool for early detection, leading to better patient care.\n",
        "\n",
        "## II. Paper Summary\n",
        "### 1. The Proposal\n",
        "- We present DRENet, an AI-driven system for diagnosing COVID-19 from CT scans. It integrates ResNet50 with an FPN to extract detailed features at various scales, marking a significant advance in applying contemporary deep learning to medical diagnostics.\n",
        "\n",
        "### 2. Method Innovations\n",
        "- The novel approach combines deep learning with attention mechanisms to highlight COVID-19 indicators in CT images. FPN's role is crucial in identifying lesions of different sizes, enhancing the model's ability to recognize essential features in various image types. The paper also uses ablation studies to refine performance comparisons, offering more insight than the original study.\n",
        "\n",
        "### 3. Method Effectiveness\n",
        "- The proposed method demonstrates high efficacy, with an AUC of 0.95 and high recall and precision rates, showing it can effectively differentiate COVID-19 from bacterial pneumonia. This level of diagnostic accuracy is crucial for proper treatment allocation and reducing unwarranted interventions.\n",
        "\n",
        "### 4. Research Contributions\n",
        "- The study's impact is significant; it improves not just the accuracy of COVID-19 imaging diagnosis but also the interpretability of AI decisions in a clinical setting. Understanding how AI reaches its conclusions can help doctors make well-informed choices. This comprehensive approach advances medical diagnostic technology and lays the groundwork for future AI research in healthcare, particularly in enhancing system reliability and practicality in clinical use."
      ]
    },
    {
      "cell_type": "markdown",
      "metadata": {
        "id": "uygL9tTPSVHB"
      },
      "source": [
        "# Scope of Reproducibility\n",
        "This reproducibility project aims to recreate and improve upon the deep learning model used for diagnosing COVID-19 from CT scans. We focus on the model's accurate reimplementation and a thorough evaluation of its performance.\n",
        "\n",
        "## I. Fundamental Phases in Scope:\n",
        "### 1. Training\n",
        "- The model is trained to differentiate between COVID-19 and other types of pneumonia using labeled CT images.\n",
        "\n",
        "### 2. Validation\n",
        "- We confirm the model's consistent and reliable performance across various datasets to ensure its practical applicability. We deploy it within the training process.\n",
        "\n",
        "### 3. Testing\n",
        "- We assess the model's diagnostic accuracy and its ability to generalize by using a distinct set of images.\n",
        "- By the end of the notebook, the Ablation studies are included to understand the impact of each model component.\n",
        "\n",
        "## II. Algorithmic Scope:\n",
        "### 1. Inclusions\n",
        "- **ResNet50**: This is the chosen architecture for robust feature extraction, essential for accurate classification.\n",
        "\n",
        "### 2. Exclusions\n",
        "- **Feature Pyramid Network (FPN)**: Not incorporated due to constraints in local computing resources that affect training efficiency and the complexity of combining FPN with ResNet50. This is also because a more extensive dataset is required to avoid overfitting.\n",
        "\n",
        "## III. Enhancements and Adjustments:\n",
        "### 1. Package Updates\n",
        "- The latest deep learning libraries use optimized algorithms and improved performance.\n",
        "\n",
        "### 2. Error Rectification\n",
        "- Minor mistakes in the initial setup have been corrected, leading to enhanced stability and precision of the model.\n",
        "\n",
        "### 3. Comparative Analysis\n",
        "- Alterations in the training parameters have increased accuracy and reliability compared to the original model.\n",
        "- Code clarity is also significantly better, providing a more intuitive single .ipynb file for model execution.\n",
        "\n",
        "### 4. Ablation Studies\n",
        "- We incorporate ablation tests to evaluate the components of deep learning models, offering more substantial insights and understanding than the original study.\n",
        "\n",
        "These updates maintain the essence of the model's function while providing a solid base for future progress in medical imaging diagnostics leveraging deep learning technologies."
      ]
    },
    {
      "cell_type": "markdown",
      "metadata": {
        "id": "xWAHJ_1CdtaA"
      },
      "source": [
        "# Methodology\n",
        "\n",
        "This methodology is the core of the project. It consists of runnable codes with necessary annotations to show the experiment you executed to test the hypotheses.\n",
        "\n",
        "The methodology in the experiment contains at least two subsections, **data** and **model**."
      ]
    },
    {
      "cell_type": "markdown",
      "metadata": {
        "id": "wxhwLJXyzMxA"
      },
      "source": [
        "## I. Environment\n",
        "### i. Python Version\n",
        "The Python version between 3.8 and 3.11 should run well.\n",
        "1. To be specific, for **local** development and debugging, we use the following version:\n",
        "- *Python 3.8.8*\n",
        "\n",
        "2. For **Google Colab** finalizing and testing, we use the following version:\n",
        "- *Python 3.10.12*\n",
        "\n",
        "You can utilize (please uncomment) the following command to check your Python version before continuing."
      ]
    },
    {
      "cell_type": "code",
      "execution_count": 1,
      "metadata": {
        "id": "G9m5NZUAzMxB"
      },
      "outputs": [],
      "source": [
        "#!python --version"
      ]
    },
    {
      "cell_type": "markdown",
      "metadata": {
        "id": "s5EZ3yugiq5T"
      },
      "source": [
        "### ii. Dependencies/packages Needed\n",
        "There are three types of packages required in our project.\n",
        "\n",
        "#### 1. Standard Libraries (No Installation Required)\n",
        "- `sys`\n",
        "- `os`\n",
        "- `zipfile`\n",
        "- `io`\n",
        "- `datetime`\n",
        "- `pickle`\n",
        "- `math`\n",
        "\n",
        "#### 2. Public Third-Party Libraries (Installation Required)\n",
        "- `requests`: For making HTTP requests.\n",
        "- `numpy`: For numerical computing.\n",
        "- `torch`: For machine learning and tensor computations.\n",
        "- `scikit-learn`: For machine learning algorithms and metrics.\n",
        "- `gdown`: For downloading files from Google Drive.\n",
        "- `matplotlib`: Creating static, interactive, and animated visualizations.\n",
        "- `seaborn`: For statistical data visualization, based on matplotlib.\n",
        "\n",
        "#### 3. Private Package (Custom Code Not Publicly Available)\n",
        "- `core`: A custom module containing required models, dataset handling, configurations, and utilities for the project, including `model`, `anchors`, `config`, `dataset`, `resnet`, `senet`, and `utils`.\n",
        "\n",
        "**Note**:\n",
        "1. To run the code, install all the public third-party libraries using `pip install` and ensure the private `core` package is downloaded, extracted, and accessible in your Python environment.\n",
        "2. If you are utilizing Google Colab, only the private package must be installed. We provide the code below."
      ]
    },
    {
      "cell_type": "markdown",
      "metadata": {
        "id": "BQ7ajJ00zMxF"
      },
      "source": [
        "### iii. Package Installation\n",
        "In our project, we get packages through two approaches:\n",
        "1. Import the published packages through PyPI using pip install.\n",
        "2. Download and import private packages stored in py files.\n",
        "\n",
        "#### 1. Import the Published Packages\n",
        "*(If you don't use **Google Colab**)* Please uncomment and run all pip installations if you don't have the package and plan to run locally."
      ]
    },
    {
      "cell_type": "code",
      "execution_count": 2,
      "metadata": {
        "id": "6lA7ZvyYiq5T"
      },
      "outputs": [],
      "source": [
        "#!pip install requests numpy torch scikit-learn gdown matplotlib seaborn"
      ]
    },
    {
      "cell_type": "markdown",
      "metadata": {
        "id": "VGtsvId8zMxG"
      },
      "source": [
        "Please run the following cell to import all required packages."
      ]
    },
    {
      "cell_type": "code",
      "execution_count": 3,
      "metadata": {
        "id": "yu61Jp1xrnKk"
      },
      "outputs": [],
      "source": [
        "import sys\n",
        "import os\n",
        "import zipfile\n",
        "import requests\n",
        "from io import BytesIO\n",
        "from datetime import datetime\n",
        "import pickle\n",
        "import numpy as np\n",
        "import torch\n",
        "import torch.utils.data\n",
        "from torch.nn import DataParallel\n",
        "from torch.optim.lr_scheduler import MultiStepLR\n",
        "from torch.utils.data import DataLoader\n",
        "from sklearn.metrics import roc_auc_score, mean_squared_error\n",
        "from math import sqrt\n",
        "import gdown\n",
        "import matplotlib.pyplot as plt\n",
        "import seaborn as sns\n",
        "import pandas as pd\n",
        "from PIL import Image"
      ]
    },
    {
      "cell_type": "markdown",
      "metadata": {
        "id": "RnvWUKY7iq5U"
      },
      "source": [
        "#### 2. Download and Import the Private Packages\n",
        "##### (1) Define the `download_and_unzip` functions"
      ]
    },
    {
      "cell_type": "code",
      "execution_count": 4,
      "metadata": {
        "id": "Dfh10aseiq5U"
      },
      "outputs": [],
      "source": [
        "# Function to download and unzip files from GitHub into a target directory\n",
        "def download_and_unzip(url, target_folder):\n",
        "    response = requests.get(url, stream=True)\n",
        "    if response.status_code == 200:\n",
        "        zipfile_path = os.path.join(target_folder, 'temp.zip')\n",
        "        with open(zipfile_path, 'wb') as f:\n",
        "            f.write(response.content)\n",
        "        with zipfile.ZipFile(zipfile_path, 'r') as zip_ref:\n",
        "            zip_ref.extractall(target_folder)\n",
        "        os.remove(zipfile_path)  # Clean up temp file\n",
        "    else:\n",
        "        print(f\"Failed to download from {url}\")\n",
        "\n",
        "# Function to download and unzip files from Google Drive to target directory\n",
        "def gdown_and_unzip(file_id, output, target_folder):\n",
        "    os.makedirs(target_folder, exist_ok=True)  # Create the target folder if it doesn't exist\n",
        "    zipfile_path = os.path.join(target_folder, output)\n",
        "    url = f\"https://drive.google.com/uc?id={file_id}\"\n",
        "    gdown.download(url, zipfile_path, quiet=False)\n",
        "\n",
        "    with zipfile.ZipFile(zipfile_path, 'r') as zip_ref:\n",
        "        zip_ref.extractall(target_folder)\n",
        "\n",
        "    os.remove(zipfile_path)  # Clean up temp file"
      ]
    },
    {
      "cell_type": "markdown",
      "metadata": {
        "id": "tsCEZvnDiq5V"
      },
      "source": [
        "##### (2) Call the functionds and import the private packages"
      ]
    },
    {
      "cell_type": "code",
      "execution_count": 5,
      "metadata": {
        "colab": {
          "base_uri": "https://localhost:8080/"
        },
        "id": "KsLPWAUViq5V",
        "outputId": "68aa3ab8-47bd-40d8-979a-d3c484facee9"
      },
      "outputs": [
        {
          "output_type": "stream",
          "name": "stderr",
          "text": [
            "Downloading...\n",
            "From: https://drive.google.com/uc?id=1sSbRS4-cNyATJbwqpe97YvGG8qZkulTG\n",
            "To: /content/core.zip\n",
            "100%|██████████| 12.3k/12.3k [00:00<00:00, 27.0MB/s]\n"
          ]
        }
      ],
      "source": [
        "# Download and extract the ZIP file\n",
        "file_id = \"1sSbRS4-cNyATJbwqpe97YvGG8qZkulTG\"\n",
        "output = \"core.zip\"\n",
        "target_folder = '.'\n",
        "\n",
        "gdown_and_unzip(file_id, output, target_folder)\n",
        "\n",
        "# Import the required functions from downloaded packages\n",
        "from core import model, dataset\n",
        "from core.config import BATCH_SIZE, PROPOSAL_NUM, SAVE_FREQ, LR, WD, resume, save_dir\n",
        "from core.utils import init_log, progress_bar"
      ]
    },
    {
      "cell_type": "markdown",
      "metadata": {
        "id": "Si8DLgMAiq5V"
      },
      "source": [
        "## II. Mode Behavior Setup\n",
        "- For demo, training, and ablations purposes, we design several parameters to control the behavior of the models.\n",
        "- The change of the following values will significantly affect the behavior and result of the model and the time required for the processes.\n",
        "\n",
        "### i. demo_mode\n",
        "- If `True`: We will use a *small* data sample, and epoch will be set to *very small number* and training in **short** time;\n",
        "- If `False`, we will download *original* data, and epoch will be set to *500*, and training for **regular** time.\n",
        "\n",
        "### ii. resnet_on\n",
        "- If `True`: The model will utilize the pre-trained **ResNet-50** architecture for training, leveraging its powerful feature extraction capabilities.\n",
        "- If `False`: A placeholder model with **no pre-trained weights** will be used, typically for testing the pipeline or operating under constraints that prevent using the entire model.\n",
        "- ***Note***: We suggest keeping this parameter as `True`. Changing it to `False` may affect the overall workflow and lead to a mismatch between our description and displayed results."
      ]
    },
    {
      "cell_type": "code",
      "execution_count": 6,
      "metadata": {
        "id": "0IK_1kz2iq5V"
      },
      "outputs": [],
      "source": [
        "demo_mode = True\n",
        "RESNET_ON = True # DON'T change the value, otherwise the workflow will be changed."
      ]
    },
    {
      "cell_type": "markdown",
      "metadata": {
        "id": "z04Z8snuzMxJ"
      },
      "source": [
        "## III. Data\n",
        "### i. Data Download Instruction\n",
        "- Depending on different `demo_mode` setups, there are two modes of data downloading process.\n",
        "- ***The data download script will run automatically***. No action is required to adjust any code below.\n",
        "\n",
        "#### 1. Regular Mode (`demo_mode` = `False`)\n",
        "- When not in demo mode, the entire dataset is sourced from the original project's GitHub repository.\n",
        "- The process involves retrieving three zip files for the test, train, and validation datasets. These files are downloaded and unzipped into a dedicated directory named `input_complete`.\n",
        "- The `input_complete` directory is then structured into subdirectories: `train`, `test`, and `val`, each holding the relevant image data.\n",
        "\n",
        "#### 2. Demo Mode (`demo_mode` = `True`)\n",
        "- For a more streamlined setup, demo mode allows the download of a smaller subset of the dataset from Google Drive.\n",
        "- A single zip file is downloaded using a provided file ID.\n",
        "- After the download, the contents are extracted into a folder called `input`, organized into `train`, `test`, and `val` subdirectories to facilitate different stages of the model's training and evaluation.\n",
        "\n",
        "#### *Note*\n",
        "Once the dataset is downloaded and extracted using either method, it can be loaded for model training and evaluation through predefined dataset loading functions."
      ]
    },
    {
      "cell_type": "markdown",
      "metadata": {
        "id": "2NbPHUTMbkD3"
      },
      "source": [
        "### ii. Data General Descriptions\n",
        "\n",
        "#### 1. Data Source and Statistics\n",
        "- We utilize a dataset of enhanced CT scans from a public collection, training our deep learning model to discern COVID-19 from non-COVID instances. These scans provide diverse representations of lung involvement, which is crucial for pinpointing COVID-19 indicators.\n",
        "- Our dataset comprises CT images classified as either COVID-19 (\"nCOV\") or not (\"no-nCOV\"), complete with critical metrics such as image counts, class distributions, and cross-validation splits to detail the dataset's breadth and structure.\n",
        "\n",
        "#### 2. Data Processing and Distribution\n",
        "- The images are subjected to preprocessing routines like resizing, normalization, and augmentation. They are then divided into training, validation, and testing groups to enable a thorough evaluation of the model.\n",
        "- The dataset includes various CT scans across different patients, highlighting numerous lung conditions that signify both COVID-19 and non-COVID-19 afflictions.\n",
        "\n",
        "#### 3. Data Handling and Standardization\n",
        "- Our data processing ensures that all images conform to a standard size and intensity scale to provide consistent inputs for the model, with augmentation techniques considered to enrich the dataset's variability."
      ]
    },
    {
      "cell_type": "markdown",
      "metadata": {
        "id": "XzVUQS0CHry0"
      },
      "source": [
        "### iii. Preprocessing Code & Command and Further Descriptions\n",
        "The scripts below will load the data depending on mode (`demo_mode`).\n",
        "\n",
        "#### 1. Data Downloading and Loading"
      ]
    },
    {
      "cell_type": "code",
      "execution_count": 7,
      "metadata": {
        "colab": {
          "base_uri": "https://localhost:8080/"
        },
        "id": "BZScZNbROw-N",
        "outputId": "880c7d7f-4c4c-476f-863c-16d9afb5677e"
      },
      "outputs": [
        {
          "output_type": "stream",
          "name": "stderr",
          "text": [
            "Downloading...\n",
            "From: https://drive.google.com/uc?id=1N2k3Sm3m7aKNQE1b9AbcGrknRzJdvT90\n",
            "To: /content/input/input.zip\n",
            "100%|██████████| 7.22M/7.22M [00:00<00:00, 79.7MB/s]\n"
          ]
        }
      ],
      "source": [
        "raw_data_dir = \"\"\n",
        "\n",
        "# Call the data loading based on different mode\n",
        "# If use demo mode, we will download small dataset from google drive;\n",
        "# If use regular mode, we will download complete dataset from orginal github repo.\n",
        "if demo_mode == False:\n",
        "    # URLs\n",
        "    url_prefix = \"https://github.com/biomed-AI/COVID19-CT/blob/a7f9e65cc2c1dd699b010a8963f6923b9b426ae4/local_traniner/input\"\n",
        "    test_zip_url = url_prefix + \"/test.zip?raw=true\"\n",
        "    train_zip_url = url_prefix + \"/train.zip?raw=true\"\n",
        "    val_zip_url = url_prefix + \"/val.zip?raw=true\"\n",
        "\n",
        "    # Path to the target folder\n",
        "    target_folder = './input_complete'\n",
        "\n",
        "    # Ensure the target directory exists\n",
        "    os.makedirs(target_folder, exist_ok=True)\n",
        "\n",
        "    # Download and unzip each file\n",
        "    download_and_unzip(test_zip_url, target_folder)\n",
        "    download_and_unzip(train_zip_url, target_folder)\n",
        "    download_and_unzip(val_zip_url, target_folder)\n",
        "else:\n",
        "    file_id = \"1N2k3Sm3m7aKNQE1b9AbcGrknRzJdvT90\"\n",
        "    output = \"input.zip\"\n",
        "    target_folder = './input'\n",
        "    gdown_and_unzip(file_id, output, target_folder)\n",
        "\n",
        "\n",
        "def load_image_data():\n",
        "    # Load the image folders\n",
        "    if demo_mode == True:\n",
        "        train_path = './input/train/'\n",
        "        val_path = './input/val/'\n",
        "        test_path = './input/test/'\n",
        "    else:\n",
        "        train_path = './input_complete/train/'\n",
        "        val_path = './input_complete/val/'\n",
        "        test_path = './input_complete/test/'\n",
        "\n",
        "    trainset = dataset.SARS(root=train_path, is_train=True)\n",
        "    valset = dataset.SARS(root=val_path, is_train=False)\n",
        "    testset = dataset.SARS(root=test_path, is_train=False)\n",
        "    return trainset, valset, testset\n",
        "\n",
        "# Load raw data\n",
        "trainset, valset, testset = load_image_data()"
      ]
    },
    {
      "cell_type": "markdown",
      "metadata": {
        "id": "zn3pTDskiq5W"
      },
      "source": [
        "#### 2. Calculate Statistics of Data Directory\n",
        "Given the nature of the data (CT image), we performed two types of statistics:\n",
        "- Basic statistics of positive/negative COVID CT images of training, validation, and testing datasets.\n",
        "- An average intensity analysis of images of positive/negative training, validation, and testing cases.\n",
        "\n",
        "##### 2.1 Code for Statistics"
      ]
    },
    {
      "cell_type": "code",
      "execution_count": 8,
      "metadata": {
        "colab": {
          "base_uri": "https://localhost:8080/",
          "height": 143
        },
        "id": "dFeMyOcviq5W",
        "outputId": "5f3f73ea-04ce-474c-f076-f59d558d817b"
      },
      "outputs": [
        {
          "output_type": "display_data",
          "data": {
            "text/plain": [
              "            Total Number  Positive Num  Negative Num Positive %\n",
              "Training             108            79            29     73.15%\n",
              "Validation           105            76            29     72.38%\n",
              "Test                  84            56            28     66.67%"
            ],
            "text/html": [
              "\n",
              "  <div id=\"df-2e342148-214c-4bfc-89a5-ecf9ec8a6ec4\" class=\"colab-df-container\">\n",
              "    <div>\n",
              "<style scoped>\n",
              "    .dataframe tbody tr th:only-of-type {\n",
              "        vertical-align: middle;\n",
              "    }\n",
              "\n",
              "    .dataframe tbody tr th {\n",
              "        vertical-align: top;\n",
              "    }\n",
              "\n",
              "    .dataframe thead th {\n",
              "        text-align: right;\n",
              "    }\n",
              "</style>\n",
              "<table border=\"1\" class=\"dataframe\">\n",
              "  <thead>\n",
              "    <tr style=\"text-align: right;\">\n",
              "      <th></th>\n",
              "      <th>Total Number</th>\n",
              "      <th>Positive Num</th>\n",
              "      <th>Negative Num</th>\n",
              "      <th>Positive %</th>\n",
              "    </tr>\n",
              "  </thead>\n",
              "  <tbody>\n",
              "    <tr>\n",
              "      <th>Training</th>\n",
              "      <td>108</td>\n",
              "      <td>79</td>\n",
              "      <td>29</td>\n",
              "      <td>73.15%</td>\n",
              "    </tr>\n",
              "    <tr>\n",
              "      <th>Validation</th>\n",
              "      <td>105</td>\n",
              "      <td>76</td>\n",
              "      <td>29</td>\n",
              "      <td>72.38%</td>\n",
              "    </tr>\n",
              "    <tr>\n",
              "      <th>Test</th>\n",
              "      <td>84</td>\n",
              "      <td>56</td>\n",
              "      <td>28</td>\n",
              "      <td>66.67%</td>\n",
              "    </tr>\n",
              "  </tbody>\n",
              "</table>\n",
              "</div>\n",
              "    <div class=\"colab-df-buttons\">\n",
              "\n",
              "  <div class=\"colab-df-container\">\n",
              "    <button class=\"colab-df-convert\" onclick=\"convertToInteractive('df-2e342148-214c-4bfc-89a5-ecf9ec8a6ec4')\"\n",
              "            title=\"Convert this dataframe to an interactive table.\"\n",
              "            style=\"display:none;\">\n",
              "\n",
              "  <svg xmlns=\"http://www.w3.org/2000/svg\" height=\"24px\" viewBox=\"0 -960 960 960\">\n",
              "    <path d=\"M120-120v-720h720v720H120Zm60-500h600v-160H180v160Zm220 220h160v-160H400v160Zm0 220h160v-160H400v160ZM180-400h160v-160H180v160Zm440 0h160v-160H620v160ZM180-180h160v-160H180v160Zm440 0h160v-160H620v160Z\"/>\n",
              "  </svg>\n",
              "    </button>\n",
              "\n",
              "  <style>\n",
              "    .colab-df-container {\n",
              "      display:flex;\n",
              "      gap: 12px;\n",
              "    }\n",
              "\n",
              "    .colab-df-convert {\n",
              "      background-color: #E8F0FE;\n",
              "      border: none;\n",
              "      border-radius: 50%;\n",
              "      cursor: pointer;\n",
              "      display: none;\n",
              "      fill: #1967D2;\n",
              "      height: 32px;\n",
              "      padding: 0 0 0 0;\n",
              "      width: 32px;\n",
              "    }\n",
              "\n",
              "    .colab-df-convert:hover {\n",
              "      background-color: #E2EBFA;\n",
              "      box-shadow: 0px 1px 2px rgba(60, 64, 67, 0.3), 0px 1px 3px 1px rgba(60, 64, 67, 0.15);\n",
              "      fill: #174EA6;\n",
              "    }\n",
              "\n",
              "    .colab-df-buttons div {\n",
              "      margin-bottom: 4px;\n",
              "    }\n",
              "\n",
              "    [theme=dark] .colab-df-convert {\n",
              "      background-color: #3B4455;\n",
              "      fill: #D2E3FC;\n",
              "    }\n",
              "\n",
              "    [theme=dark] .colab-df-convert:hover {\n",
              "      background-color: #434B5C;\n",
              "      box-shadow: 0px 1px 3px 1px rgba(0, 0, 0, 0.15);\n",
              "      filter: drop-shadow(0px 1px 2px rgba(0, 0, 0, 0.3));\n",
              "      fill: #FFFFFF;\n",
              "    }\n",
              "  </style>\n",
              "\n",
              "    <script>\n",
              "      const buttonEl =\n",
              "        document.querySelector('#df-2e342148-214c-4bfc-89a5-ecf9ec8a6ec4 button.colab-df-convert');\n",
              "      buttonEl.style.display =\n",
              "        google.colab.kernel.accessAllowed ? 'block' : 'none';\n",
              "\n",
              "      async function convertToInteractive(key) {\n",
              "        const element = document.querySelector('#df-2e342148-214c-4bfc-89a5-ecf9ec8a6ec4');\n",
              "        const dataTable =\n",
              "          await google.colab.kernel.invokeFunction('convertToInteractive',\n",
              "                                                    [key], {});\n",
              "        if (!dataTable) return;\n",
              "\n",
              "        const docLinkHtml = 'Like what you see? Visit the ' +\n",
              "          '<a target=\"_blank\" href=https://colab.research.google.com/notebooks/data_table.ipynb>data table notebook</a>'\n",
              "          + ' to learn more about interactive tables.';\n",
              "        element.innerHTML = '';\n",
              "        dataTable['output_type'] = 'display_data';\n",
              "        await google.colab.output.renderOutput(dataTable, element);\n",
              "        const docLink = document.createElement('div');\n",
              "        docLink.innerHTML = docLinkHtml;\n",
              "        element.appendChild(docLink);\n",
              "      }\n",
              "    </script>\n",
              "  </div>\n",
              "\n",
              "\n",
              "<div id=\"df-f4e24acb-cbec-45b2-81f9-e6ec9594e104\">\n",
              "  <button class=\"colab-df-quickchart\" onclick=\"quickchart('df-f4e24acb-cbec-45b2-81f9-e6ec9594e104')\"\n",
              "            title=\"Suggest charts\"\n",
              "            style=\"display:none;\">\n",
              "\n",
              "<svg xmlns=\"http://www.w3.org/2000/svg\" height=\"24px\"viewBox=\"0 0 24 24\"\n",
              "     width=\"24px\">\n",
              "    <g>\n",
              "        <path d=\"M19 3H5c-1.1 0-2 .9-2 2v14c0 1.1.9 2 2 2h14c1.1 0 2-.9 2-2V5c0-1.1-.9-2-2-2zM9 17H7v-7h2v7zm4 0h-2V7h2v10zm4 0h-2v-4h2v4z\"/>\n",
              "    </g>\n",
              "</svg>\n",
              "  </button>\n",
              "\n",
              "<style>\n",
              "  .colab-df-quickchart {\n",
              "      --bg-color: #E8F0FE;\n",
              "      --fill-color: #1967D2;\n",
              "      --hover-bg-color: #E2EBFA;\n",
              "      --hover-fill-color: #174EA6;\n",
              "      --disabled-fill-color: #AAA;\n",
              "      --disabled-bg-color: #DDD;\n",
              "  }\n",
              "\n",
              "  [theme=dark] .colab-df-quickchart {\n",
              "      --bg-color: #3B4455;\n",
              "      --fill-color: #D2E3FC;\n",
              "      --hover-bg-color: #434B5C;\n",
              "      --hover-fill-color: #FFFFFF;\n",
              "      --disabled-bg-color: #3B4455;\n",
              "      --disabled-fill-color: #666;\n",
              "  }\n",
              "\n",
              "  .colab-df-quickchart {\n",
              "    background-color: var(--bg-color);\n",
              "    border: none;\n",
              "    border-radius: 50%;\n",
              "    cursor: pointer;\n",
              "    display: none;\n",
              "    fill: var(--fill-color);\n",
              "    height: 32px;\n",
              "    padding: 0;\n",
              "    width: 32px;\n",
              "  }\n",
              "\n",
              "  .colab-df-quickchart:hover {\n",
              "    background-color: var(--hover-bg-color);\n",
              "    box-shadow: 0 1px 2px rgba(60, 64, 67, 0.3), 0 1px 3px 1px rgba(60, 64, 67, 0.15);\n",
              "    fill: var(--button-hover-fill-color);\n",
              "  }\n",
              "\n",
              "  .colab-df-quickchart-complete:disabled,\n",
              "  .colab-df-quickchart-complete:disabled:hover {\n",
              "    background-color: var(--disabled-bg-color);\n",
              "    fill: var(--disabled-fill-color);\n",
              "    box-shadow: none;\n",
              "  }\n",
              "\n",
              "  .colab-df-spinner {\n",
              "    border: 2px solid var(--fill-color);\n",
              "    border-color: transparent;\n",
              "    border-bottom-color: var(--fill-color);\n",
              "    animation:\n",
              "      spin 1s steps(1) infinite;\n",
              "  }\n",
              "\n",
              "  @keyframes spin {\n",
              "    0% {\n",
              "      border-color: transparent;\n",
              "      border-bottom-color: var(--fill-color);\n",
              "      border-left-color: var(--fill-color);\n",
              "    }\n",
              "    20% {\n",
              "      border-color: transparent;\n",
              "      border-left-color: var(--fill-color);\n",
              "      border-top-color: var(--fill-color);\n",
              "    }\n",
              "    30% {\n",
              "      border-color: transparent;\n",
              "      border-left-color: var(--fill-color);\n",
              "      border-top-color: var(--fill-color);\n",
              "      border-right-color: var(--fill-color);\n",
              "    }\n",
              "    40% {\n",
              "      border-color: transparent;\n",
              "      border-right-color: var(--fill-color);\n",
              "      border-top-color: var(--fill-color);\n",
              "    }\n",
              "    60% {\n",
              "      border-color: transparent;\n",
              "      border-right-color: var(--fill-color);\n",
              "    }\n",
              "    80% {\n",
              "      border-color: transparent;\n",
              "      border-right-color: var(--fill-color);\n",
              "      border-bottom-color: var(--fill-color);\n",
              "    }\n",
              "    90% {\n",
              "      border-color: transparent;\n",
              "      border-bottom-color: var(--fill-color);\n",
              "    }\n",
              "  }\n",
              "</style>\n",
              "\n",
              "  <script>\n",
              "    async function quickchart(key) {\n",
              "      const quickchartButtonEl =\n",
              "        document.querySelector('#' + key + ' button');\n",
              "      quickchartButtonEl.disabled = true;  // To prevent multiple clicks.\n",
              "      quickchartButtonEl.classList.add('colab-df-spinner');\n",
              "      try {\n",
              "        const charts = await google.colab.kernel.invokeFunction(\n",
              "            'suggestCharts', [key], {});\n",
              "      } catch (error) {\n",
              "        console.error('Error during call to suggestCharts:', error);\n",
              "      }\n",
              "      quickchartButtonEl.classList.remove('colab-df-spinner');\n",
              "      quickchartButtonEl.classList.add('colab-df-quickchart-complete');\n",
              "    }\n",
              "    (() => {\n",
              "      let quickchartButtonEl =\n",
              "        document.querySelector('#df-f4e24acb-cbec-45b2-81f9-e6ec9594e104 button');\n",
              "      quickchartButtonEl.style.display =\n",
              "        google.colab.kernel.accessAllowed ? 'block' : 'none';\n",
              "    })();\n",
              "  </script>\n",
              "</div>\n",
              "    </div>\n",
              "  </div>\n"
            ],
            "application/vnd.google.colaboratory.intrinsic+json": {
              "type": "dataframe",
              "summary": "{\n  \"name\": \"calculate_stats(trainset, valset, testset)\",\n  \"rows\": 3,\n  \"fields\": [\n    {\n      \"column\": \"Total Number\",\n      \"properties\": {\n        \"dtype\": \"number\",\n        \"std\": 13,\n        \"min\": 84,\n        \"max\": 108,\n        \"num_unique_values\": 3,\n        \"samples\": [\n          108,\n          105,\n          84\n        ],\n        \"semantic_type\": \"\",\n        \"description\": \"\"\n      }\n    },\n    {\n      \"column\": \"Positive Num\",\n      \"properties\": {\n        \"dtype\": \"number\",\n        \"std\": 12,\n        \"min\": 56,\n        \"max\": 79,\n        \"num_unique_values\": 3,\n        \"samples\": [\n          79,\n          76,\n          56\n        ],\n        \"semantic_type\": \"\",\n        \"description\": \"\"\n      }\n    },\n    {\n      \"column\": \"Negative Num\",\n      \"properties\": {\n        \"dtype\": \"number\",\n        \"std\": 0,\n        \"min\": 28,\n        \"max\": 29,\n        \"num_unique_values\": 2,\n        \"samples\": [\n          28,\n          29\n        ],\n        \"semantic_type\": \"\",\n        \"description\": \"\"\n      }\n    },\n    {\n      \"column\": \"Positive %\",\n      \"properties\": {\n        \"dtype\": \"string\",\n        \"num_unique_values\": 3,\n        \"samples\": [\n          \"73.15%\",\n          \"72.38%\"\n        ],\n        \"semantic_type\": \"\",\n        \"description\": \"\"\n      }\n    }\n  ]\n}"
            }
          },
          "metadata": {}
        }
      ],
      "source": [
        "def calculate_directory_stats(path):\n",
        "    \"\"\"\n",
        "    Calculate the number of total, positive, and negative images in a directory,\n",
        "    and the percentage of positive images.\n",
        "    \"\"\"\n",
        "    # Paths for positive and negative image directories\n",
        "    pos_path = path + 'nCoV'\n",
        "    neg_path = path + 'no_nCoV'\n",
        "    # print(os.listdir(neg_path))\n",
        "\n",
        "    # Count number of files in the positive and negative directories\n",
        "    pos_count = len([f for f in os.listdir(pos_path) if f.endswith('.jpg')])\n",
        "    neg_count = len([f for f in os.listdir(neg_path) if f.endswith('.jpg')])\n",
        "    total_count = pos_count + neg_count\n",
        "    pos_percentage = (pos_count / total_count) * 100 if total_count else 0\n",
        "\n",
        "    return total_count, pos_count, neg_count, pos_percentage\n",
        "\n",
        "def calculate_stats(trainset, valset, testset):\n",
        "    # Calculate stats for each set\n",
        "\n",
        "    train_stats = calculate_directory_stats(trainset)\n",
        "    val_stats = calculate_directory_stats(valset)\n",
        "    test_stats = calculate_directory_stats(testset)\n",
        "\n",
        "    stats_df = pd.DataFrame({\n",
        "        'Set': ['Training', 'Validation', 'Test'],\n",
        "        'Total Number': [train_stats[0], val_stats[0], test_stats[0]],\n",
        "        'Positive Num': [train_stats[1], val_stats[1], test_stats[1]],\n",
        "        'Negative Num': [train_stats[2], val_stats[2], test_stats[2]],\n",
        "        'Positive %': [f\"{train_stats[3]:.2f}%\", f\"{val_stats[3]:.2f}%\", f\"{test_stats[3]:.2f}%\"]\n",
        "        })\n",
        "\n",
        "    # Formatting DataFrame for better visual representation\n",
        "    formatted_stats_df = stats_df.set_index('Set')\n",
        "    formatted_stats_df.index.name = None\n",
        "    display(formatted_stats_df)\n",
        "\n",
        "\n",
        "# Assuming the structure of 'trainset', 'valset', and 'testset' are paths to the dataset directories\n",
        "trainset = 'input/train/' if demo_mode else 'input_complete/train/'\n",
        "valset = 'input/val/' if demo_mode else 'input_complete/val/'\n",
        "testset = 'input/test/' if demo_mode else 'input_complete/test/'\n",
        "\n",
        "# Calculate and print the stats\n",
        "calculate_stats(trainset, valset, testset)"
      ]
    },
    {
      "cell_type": "markdown",
      "metadata": {
        "id": "Ceyl5ICZj5VK"
      },
      "source": [
        "##### 2.2 Further Data Descriptions\n",
        "###### (1) Sample Consistency\n",
        "- The data distribution in terms of positive (`nCoV`) versus negative (`no_nCoV`) cases shows a consistent ratio across the datasets:\n",
        "    - **Training:** Approximately 73% positive to 27% negative.\n",
        "    - **Validation:** Roughly 72% positive to 28% negative.\n",
        "    - **Testing:** About 67% positive to 33% negative.\n",
        "- These ratios closely reflect the proportions within the larger dataset, suggesting that the subset of images used for our analysis is a well-distributed representation of the original data.\n",
        "\n",
        "###### (2) Validity of Subsequent Analysis\n",
        "- The congruence of sample statistics with broader data trends validates our experimental setup. For instance, the percentage of positive cases in the test set closely matches the overall dataset ratio.\n",
        "- This consistency underscores the reliability of our limited dataset for further deep-learning model development and diagnostic evaluations despite any sampling constraints.\n",
        "\n",
        "#### 3. Calculate the Statistics of CT Image\n",
        "##### 3.1 Code for Statistics"
      ]
    },
    {
      "cell_type": "code",
      "execution_count": 9,
      "metadata": {
        "colab": {
          "base_uri": "https://localhost:8080/",
          "height": 896
        },
        "id": "hgO1l0Naj5VK",
        "outputId": "03cad4cb-cd35-4421-cb58-475d6137d12f"
      },
      "outputs": [
        {
          "output_type": "display_data",
          "data": {
            "text/plain": [
              "<Figure size 1800x1200 with 6 Axes>"
            ],
            "image/png": "[encoded data removed]"
          },
          "metadata": {}
        }
      ],
      "source": [
        "def calculate_average_intensity(image_path):\n",
        "    \"\"\"Calculate the average pixel intensity of an image.\"\"\"\n",
        "    img = Image.open(image_path).convert('L')  # Convert image to grayscale\n",
        "    img_array = np.array(img)\n",
        "    return np.mean(img_array)\n",
        "\n",
        "def load_image_intensities():\n",
        "    base_path = './input/' if demo_mode else './input_complete/'\n",
        "    subsets = ['train', 'val', 'test']\n",
        "    intensities = {subset: {'nCoV': [], 'no_nCoV': []} for subset in subsets}\n",
        "\n",
        "    for subset in subsets:\n",
        "        subset_path = os.path.join(base_path, subset)\n",
        "        for category in ['nCoV', 'no_nCoV']:\n",
        "            category_path = os.path.join(subset_path, category)\n",
        "            for image_file in os.listdir(category_path):\n",
        "                if image_file.endswith('.jpg'):\n",
        "                    # print(os.path.join(category_path, image_file))\n",
        "                    intensity = calculate_average_intensity(os.path.join(category_path, image_file))\n",
        "                    intensities[subset][category].append(intensity)\n",
        "\n",
        "    return intensities\n",
        "\n",
        "# Load raw data intensities\n",
        "intensities = load_image_intensities()  # Change to False if not in demo mode\n",
        "\n",
        "# Plotting the results\n",
        "plt.figure(figsize=(18, 12))\n",
        "\n",
        "for i, subset in enumerate(['train', 'val', 'test'], start=1):\n",
        "    plt.subplot(3, 2, 2*i-1)\n",
        "    plt.boxplot(intensities[subset]['nCoV'])\n",
        "    plt.title(f'Average Pixel Intensity - Positive Cases ({subset.capitalize()})')\n",
        "    plt.ylabel('Average Intensity')\n",
        "\n",
        "    plt.subplot(3, 2, 2*i)\n",
        "    plt.boxplot(intensities[subset]['no_nCoV'])\n",
        "    plt.title(f'Average Pixel Intensity - Negative Cases ({subset.capitalize()})')\n",
        "    plt.ylabel('Average Intensity')\n",
        "\n",
        "plt.tight_layout()\n",
        "plt.show()"
      ]
    },
    {
      "cell_type": "markdown",
      "metadata": {
        "id": "w8XFBoWdj5VK"
      },
      "source": [
        "##### 3.2 Further Data Descriptions\n",
        "- The box plots illustrate that the median pixel intensity for positive COVID-19 cases (`nCoV`) is generally higher than negative cases (`no_nCoV`) across the training, validation, and test datasets.\n",
        "- For positive cases in the training set, the interquartile range typically spans from approximately 30 to 50 in pixel intensity. This suggests a broader variance compared to the negative cases, which span from around 25 to 45, indicating a more homogeneous set of non-COVID CT scan features."
      ]
    },
    {
      "cell_type": "markdown",
      "metadata": {
        "id": "3muyDPFPbozY"
      },
      "source": [
        "## IV. Model\n",
        "\n",
        "This section explains the model’s architecture, outlining its layers, activation functions, and other integral components.\n",
        "\n",
        "### i. Citation to the Original Paper\n",
        "Song Y, Zheng S, Li L, Zhang X, Zhang X, Huang Z, Chen J, Wang R, Zhao H, Chong Y, Shen J, Zha Y, Yang Y. _Deep Learning Enables Accurate Diagnosis of Novel Coronavirus (COVID-19) With CT Images._ IEEE/ACM Trans Comput Biol Bioinform. 2021 Nov-Dec;18(6):2775-2780. doi: [10.1109/TCBB.2021.3065361](https://doi.org/10.1109/TCBB.2021.3065361). Epub 2021 Dec 8. PMID: 33705321; PMCID: PMC8851430.\n",
        "\n",
        "### ii. Link to the Original Paper’s Repo\n",
        "The information for the paper and code repo is as follows:\n",
        "- **Paper Name**: Deep learning enables accurate diagnosis of novel coronavirus (COVID-19) with CT images\n",
        "- **Paper Link**: https://www.medrxiv.org/content/10.1101/2020.02.23.20026930v1\n",
        "- **GitHub Repo**: https://github.com/biomed-AI/COVID19-CT\n",
        "\n",
        "### iii. Model Descriptions\n",
        "\n",
        "#### 1. Model Architecture\n",
        "\n",
        "The model, defined in `model.py,` features a deep convolutional neural network inspired by the ResNet architecture. Here’s a brief overview of its layers and functions:\n",
        "\n",
        "- **Convolutional Layers**: Multiple convolutional layers are utilized for feature extraction, followed by batch normalization and ReLU activation functions for stability and non-linearity.\n",
        "  \n",
        "- **Residual Connections**: Employed to allow gradients to flow through the network directly, mitigating the vanishing gradient problem during training.\n",
        "  \n",
        "- **Pooling Layers**: Max pooling is used intermittently to reduce spatial dimensions and allow for increased depth without significantly increasing computational cost.\n",
        "  \n",
        "- **Fully Connected Layers**: The final set of layers condenses the learned features into predictions. These layers are accompanied by dropout for regularization.\n",
        "\n",
        "#### 2. Training Objectives\n",
        "\n",
        "- **Loss Function**: A cross-entropy loss function has been chosen to handle multi-class classification tasks effectively.\n",
        "  \n",
        "- **Optimizer**: SGD with momentum converges to the minimum loss efficiently.\n",
        "  \n",
        "- **Learning Rate Scheduling**: A learning rate scheduler reduces the learning rate at certain epochs to fine-tune the model’s weights.\n",
        "\n",
        "#### 3. Additional Components\n",
        "\n",
        "- **Pretrained Weights**: The model can leverage weights from a pre-trained network to accelerate learning and improve feature extraction.\n",
        "  \n",
        "- **Regularization Techniques**: Besides dropout, we use L2 weight decay to prevent overfitting.\n",
        "  \n",
        "- **Data Augmentation**: Implemented within the data loaders to enhance the model’s generalizability by presenting various transformations of the input data. Incorporate ablation testing to refine performance comparisons, yielding more profound insights and a broader understanding of the original study.\n",
        "\n",
        "#### 4. Model Definition\n",
        "The model will be downloaded automatically while running the notebook as part of the private package. <br>\n",
        "The `MyModel` class encapsulates all the layers and forward logic, orchestrating how the input data flows through each layer and transformation.\n",
        "\n",
        "- **Forward Method**: Defines the computation performed at every call.\n",
        "- **Initialization**: Layer weights are initialized using He normal initialization, designed for layers with ReLU activation functions."
      ]
    },
    {
      "cell_type": "markdown",
      "metadata": {
        "id": "3JcKHtHU79Iy"
      },
      "source": [
        "### iv. Implementation Code\n",
        "#### 1. Implementation Descriptions (Directly Call from the Customized `core` Package)\n",
        "- The model we use is from **model.py** in the *core* folder, which we download directly as a *private package* and import initially.\n",
        "- The model had been *implemented* during the **traing** process. Please refer to next section **\"V. Training\"**for details.\n",
        "- To check out the content of model.py, please visit: https://github.com/biomed-AI/COVID19-CT/blob/main/local_traniner/model/core/model.py .\n",
        "\n",
        "#### 2. **Changes We Made to the Source Code of the `core` Package**\n",
        "##### (1) **model.py**\n",
        "The major change is that the `attention_net` class has been revised to reflect the requirement for ablation studies. To be specific:\n",
        "\n",
        "1. **Introduction of RESNET_ON Flag**:\n",
        "    - In the initial version, `resnet.resnet50(pretrained=True)` is used unconditionally.\n",
        "    - In the updated code, we introduces a conditional statement with the `RESNET_ON` flag, which dictates whether to use the pre-trained ResNet-50 model or a custom `noop_resnet50` model.\n",
        "\n",
        "2. **Consistency in Typecasting**:\n",
        "    - The updated code changes some typecasting from `np.int` to `np.int_` and `int()` to `np.int((...))`. These changes suggest a move towards consistency and clarity in the codebase.\n",
        "\n",
        "##### (2) **resnet.py**\n",
        "For the ablation study, we updated the ResNet code to introduce a new 'No-Operation' (NoOp) mode. Below is a summary of the changes:\n",
        "\n",
        "###### (2.1) New Features:\n",
        "- **`noop_resnet50` Function**: This function constructs a `ResNet` model with NoOp layers, which perform no operations on their inputs and pass forward a tensor of ones with the appropriate shape. This is the key element for ablation studies.\n",
        "\n",
        "###### (2.2) Modifications in Layers:\n",
        "- **`NoOpConv2d` Class**: A custom convolutional layer that returns an output tensor filled with ones instead of performing actual convolution operations.\n",
        "- **`NoOpBatchNorm2d` Class**: A custom batch normalization layer that returns an output tensor with the same shape as the input but filled with ones.\n",
        "- **`NoOpBasicBlock` and `NoOpBottleneck` Classes**: These classes override the basic building blocks of the ResNet architecture to use the NoOp layers instead of the regular operations.\n",
        "- **`NoOpPretrainedModel` Class**: A complete ResNet model class using the NoOp layers. This model will pass the data through the architecture without performing any meaningful computation, resulting in an output tensor filled with 1 or 0.\n",
        "\n",
        "###### (2.3) New Inclusions in `__all__`:\n",
        "- **`noop_resnet50`**: This is included in the `__all__` list, making it a part of the module's interface and allowing it to be imported from the module like other ResNet variants.\n",
        "\n",
        "### v. Pre-trained Model\n",
        "Due to the limitations of *computing resources and timing issues*, we **simplified** the training process. <br> However, for **testing** purposes, we will load pretrained model to *run against test set and demonstrate the result*.\n",
        "\n",
        "#### 1. Pretrained Model Description\n",
        "\n",
        "##### (1). Model Feature Overview\n",
        "- The pre-trained model integrates the ResNet50 architecture with a Feature Pyramid Network (FPN), enhancing its capability to analyze CT images for COVID-19 detection.\n",
        "- The ResNet50 backbone applies deep residual learning, allowing for substantial feature extraction without information loss at greater depths.\n",
        "- Including FPN augments this with multi-scale detection, which is essential for pinpointing varied and nuanced lesions that signal COVID-19 presence.\n",
        "\n",
        "##### (2). Capabilities and Benefits\n",
        "- Our model distinguishes COVID-19 from other pneumonia types by recognizing distinct pathological features within CT scans, like ground-glass opacities.\n",
        "- The synergy of ResNet50's profound learning competencies and FPN's scale-agnostic feature detection culminates in a highly precise and accurate tool. It is tailored for operational efficiency, demanding less computational resources and diminishing training duration, making it exceptionally suitable for swift diagnostic processes.\n",
        "\n",
        "##### (3). Considerations and Limitations\n",
        "- Although the model is a potent instrument for rapid and precise diagnosis, its direct application or inference from the original study should be undertaken with a nuanced understanding of its context-specific training.\n",
        "- Trained on a particular dataset with specific features, its broad applicability might be confined without additional validation and adjustment.\n",
        "\n",
        "#### 2. Download the Pre-trained Model\n",
        "***Note*** The pretrained model will be used in **testing** ONLY."
      ]
    },
    {
      "cell_type": "code",
      "execution_count": 10,
      "metadata": {
        "colab": {
          "base_uri": "https://localhost:8080/",
          "height": 121
        },
        "id": "mno_7vSNzMxL",
        "outputId": "00ff8587-ddc6-4273-e51d-8d53e3c0b5d4"
      },
      "outputs": [
        {
          "output_type": "stream",
          "name": "stderr",
          "text": [
            "Downloading...\n",
            "From (original): https://drive.google.com/uc?id=1vGOnn_KPy9InVgGdymivurewcWIK5f0X\n",
            "From (redirected): https://drive.google.com/uc?id=1vGOnn_KPy9InVgGdymivurewcWIK5f0X&confirm=t&uuid=63d268c2-e65b-4b4c-b9b9-7c73845ce091\n",
            "To: /content/model_test.pth\n",
            "100%|██████████| 105M/105M [00:01<00:00, 54.7MB/s] \n"
          ]
        },
        {
          "output_type": "execute_result",
          "data": {
            "text/plain": [
              "'model_test.pth'"
            ],
            "application/vnd.google.colaboratory.intrinsic+json": {
              "type": "string"
            }
          },
          "metadata": {},
          "execution_count": 10
        }
      ],
      "source": [
        "# Download the existed model\n",
        "url = 'https://drive.google.com/uc?id=1vGOnn_KPy9InVgGdymivurewcWIK5f0X'\n",
        "output = 'model_test.pth'\n",
        "gdown.download(url, output, quiet=False)"
      ]
    },
    {
      "cell_type": "markdown",
      "metadata": {
        "id": "3JTSCvP9iq5W"
      },
      "source": [
        "## V. Training\n",
        "### i. Hyperparams\n",
        "1. **Learning Rate (`LR`)**\n",
        "   - **Value:** 0.0008\n",
        "   - **Description:** Controls the adjustment magnitude of the model's weights based on the loss gradient. It's crucial for effective convergence during training.\n",
        "\n",
        "2. **Batch Size (`BATCH_SIZE`)**\n",
        "   - **Value:** 4\n",
        "   - **Description:** Determines the number of samples processed before the model updates its parameters. Smaller batch sizes lead to more frequent updates, potentially enhancing generalization.\n",
        "\n",
        "3. **Weight Decay (`WD`)**\n",
        "   - **Value:** 0.0001\n",
        "   - **Description:** Acts as a regularization technique to prevent overfitting by penalizing larger weights, aiding in model generalization.\n",
        "\n",
        "4. **End Epoch (`END_EPOCH`)**\n",
        "   - **Values:** 6 in demo mode, 500 in regular mode\n",
        "   - **Description:** Determines the number of training epochs. Set lower in demo mode for quick runs and higher in regular mode for comprehensive training.\n",
        "\n",
        "#### Mode Specific Settings:\n",
        "- **Demo Mode** (*demo_mode = True*): Trains the model for a shorter period (6 epochs), suitable for demonstrations or testing configurations.\n",
        "- **Regular Mode** (*demo_mode = False*): Extends training up to 500 epochs for thorough learning and performance optimization.\n",
        "\n",
        "The training process is tailored to balance efficiency and thoroughness by configuring these parameters depending on the operational mode (demo or regular).\n",
        "\n",
        "### ii. Computational Requirements\n",
        "\n",
        "The notebook can be successfully completed on **Google Colab**, with free tier service， within 10 minutes when using the **demo_mode** = *True*.\n",
        "<br>\n",
        "***Note***\n",
        "- The Google Colab free tier has known limitations about GPU availability.\n",
        "- If the warning about GPU unavailable pops up when running the notebook, consider upgrading to a paid tier or wait and try again later.\n",
        "<br>\n",
        "<br>\n",
        "The following information is based on the hardware of a Google Colab instance.\n",
        "\n",
        "#### 1. CPU Specifications:\n",
        "- 2 x Intel(R) Xeon(R) CPU @ 2.30GHz\n",
        "- Single core with 2 threads per CPU\n",
        "\n",
        "#### 2. GPU Specifications:\n",
        "- NVIDIA Tesla T4\n",
        "- 15 GB memory available\n",
        "\n",
        "#### 3. Training Process:\n",
        "- By configuration, in demo mode, there are 4 training epochs.\n",
        "- The time spent varies. Based on the timestamps in the log, it is suggested that each epoch takes around 1~2 minutes.\n",
        "- GPU utilization during the logged training process is not provided, but the NVIDIA Tesla T4 is typically used.\n",
        "\n",
        "### iii. The Overall Logistics of Training\n",
        "#### 1. Setup and Functionality\n",
        "\n",
        "- **Initialization and Training:** The code initiates the training environment by setting the CUDA device and specifying directories for model and result storage. A training function takes parameters like batch size, learning rate, and weight decay, covering all necessary steps for updating model parameters through training epochs.\n",
        "\n",
        "- **Environment Configuration:** The setup optimizes GPU utilization for processing large datasets such as CT images, ensuring efficient resource management.\n",
        "\n",
        "#### 2. Execution and Optimization\n",
        "\n",
        "- **Epoch and Optimization Management:** The training iterates over several epochs, adjustable for demonstrations or extensive training sessions. It integrates various optimizers and schedulers to fine-tune different network components, enhancing the architecture's performance layer by layer.\n",
        "\n",
        "#### 3. Data Handling and Preservation\n",
        "\n",
        "- **Model Saving and Dataset Loading:** Mechanisms are in place to save the model's state at predefined intervals or post-specified epochs to preserve progress. Data loaders are employed to manage and preprocess batches of images for training, validation, and testing phases.\n",
        "\n",
        "#### 4. Evaluation and Visualization\n",
        "\n",
        "- **Performance Analysis:** Functions for visualizing results, such as confusion matrices or overlays with predicted labels, facilitate intuitive performance interpretation. The model's predictions are compared against established benchmarks or ground truths to assess enhancements or identify potential flaws."
      ]
    },
    {
      "cell_type": "markdown",
      "metadata": {
        "id": "mcDBj6p2Cj7X"
      },
      "source": [
        "### iv. Training code\n",
        "#### 1. Define the Training Process\n",
        "- We deploy the training process to ensure it can run in the local environment."
      ]
    },
    {
      "cell_type": "code",
      "execution_count": 11,
      "metadata": {
        "id": "gBdVZoTvsSFV",
        "scrolled": false
      },
      "outputs": [],
      "source": [
        "# Initialize Variable\n",
        "save_dir1 = './'\n",
        "\n",
        "# Define Training Process\n",
        "def train(batch_size, proposal_num, save_freq, lr, wd, resume_file, save_directory, net, end_epoch, RESNET_ON):\n",
        "    os.environ['CUDA_VISIBLE_DEVICES'] = '0'\n",
        "    start_epoch = 1\n",
        "    save_dir = os.path.join(save_directory, datetime.now().strftime('%Y%m%d_%H%M%S'))\n",
        "\n",
        "    import torch\n",
        "    net = net.cuda()\n",
        "    net = DataParallel(net)\n",
        "\n",
        "    train_losses = []\n",
        "    test_losses = []\n",
        "    train_accuracies = []\n",
        "    test_accuracies = []\n",
        "\n",
        "    skip_epoch = 0\n",
        "\n",
        "    for epoch in range(start_epoch, end_epoch):\n",
        "        if epoch > skip_epoch:\n",
        "            add = True\n",
        "        else:\n",
        "            add = False\n",
        "        for scheduler in schedulers:\n",
        "            scheduler.step()\n",
        "\n",
        "        # begin training\n",
        "        _print('--' * 50)\n",
        "        net.train()\n",
        "        train_correct = 0\n",
        "        total = 0\n",
        "        for i, data in enumerate(trainloader):\n",
        "            img, label, img_raw = data[0].cuda(), data[1].cuda(), data[2]\n",
        "            batch_size = img.size(0)\n",
        "            raw_logits, concat_logits, part_logits, _, top_n_prob = net(img, img_raw, add)\n",
        "            part_loss = model.list_loss(part_logits.view(batch_size * PROPOSAL_NUM, -1),\n",
        "                                        label.unsqueeze(1).repeat(1, PROPOSAL_NUM).view(-1)).view(batch_size, PROPOSAL_NUM)\n",
        "            raw_loss = creterion(raw_logits, label)\n",
        "            concat_loss = creterion(concat_logits, label)\n",
        "            rank_loss = model.ranking_loss(top_n_prob, part_loss)\n",
        "            partcls_loss = creterion(part_logits.view(batch_size * PROPOSAL_NUM, -1),\n",
        "                                     label.unsqueeze(1).repeat(1, PROPOSAL_NUM).view(-1))\n",
        "\n",
        "            total_loss = raw_loss + rank_loss + concat_loss + partcls_loss\n",
        "            total_loss.backward()\n",
        "\n",
        "            # Update optimizers\n",
        "            if raw_optimizer:\n",
        "                raw_optimizer.zero_grad()\n",
        "                raw_optimizer.step()\n",
        "            if part_optimizer:\n",
        "                part_optimizer.zero_grad()\n",
        "                part_optimizer.step()\n",
        "            if concat_optimizer:\n",
        "                concat_optimizer.zero_grad()\n",
        "                concat_optimizer.step()\n",
        "            if partcls_optimizer:\n",
        "                partcls_optimizer.zero_grad()\n",
        "                partcls_optimizer.step()\n",
        "\n",
        "            progress_bar(i, len(trainloader), 'train')\n",
        "\n",
        "            _, concat_predict = torch.max(concat_logits, 1)\n",
        "            total += batch_size\n",
        "            train_correct += torch.sum(concat_predict.data == label.data)\n",
        "\n",
        "        print(float(train_correct) / total)\n",
        "        pickle.dump(net, open('./model.pkl', 'wb'))\n",
        "        if epoch % SAVE_FREQ == 0 :#and epoch > 20:\n",
        "            train_loss = 0\n",
        "            train_correct = 0\n",
        "            total = 0\n",
        "            net.eval()\n",
        "            auc_label_lst = []\n",
        "            auc_pred_lst = []\n",
        "            people_lst = []\n",
        "            file_name_lst = []\n",
        "            for i, data in enumerate(valloader):\n",
        "                with torch.no_grad():\n",
        "                    img, label, img_raw = data[0].cuda(), data[1].cuda(), data[2]\n",
        "                    batch_size = img.size(0)\n",
        "                    _, concat_logits, _, _, _, = net(img, img_raw, add)\n",
        "                    # calculate loss\n",
        "                    concat_loss = creterion(concat_logits, label)\n",
        "                    # calculate accuracy\n",
        "                    _, concat_predict = torch.max(concat_logits, 1)\n",
        "                    auc_label_lst += list(label.data.cpu().numpy())\n",
        "                    pred = torch.nn.Softmax(1)(concat_logits)\n",
        "                    auc_pred_lst.append(pred.data.cpu().numpy())\n",
        "                    people_lst.append(data[3])\n",
        "                    file_name_lst.append(data[4])\n",
        "\n",
        "                    total += batch_size\n",
        "                    train_correct += torch.sum(concat_predict.data == label.data)\n",
        "                    train_loss += concat_loss.item() * batch_size\n",
        "                    progress_bar(i, len(valloader), 'eval train set')\n",
        "            train_acc = float(train_correct) / total\n",
        "            train_loss = train_loss / total\n",
        "\n",
        "            # For final reporting purposes\n",
        "            train_losses.append(train_loss)\n",
        "            train_accuracies.append(train_acc)\n",
        "\n",
        "            _print(\n",
        "                'epoch:{} - train loss: {:.3f} and train acc: {:.3f} total sample: {}'.format(\n",
        "                    epoch,\n",
        "                    train_loss,\n",
        "                    train_acc,\n",
        "                    total))\n",
        "\n",
        "            print(f'auc: {roc_auc_score(auc_label_lst, np.concatenate(auc_pred_lst, 0)[:, 1]):.4f}')\n",
        "            np.save('./train_pred.npy', np.concatenate(auc_pred_lst, 0))\n",
        "            np.save('./train_label.npy', np.array(auc_label_lst))\n",
        "            np.save('./train_people.npy', np.concatenate(people_lst, 0))\n",
        "            np.save('./train_file_name.npy', np.concatenate(file_name_lst, 0))\n",
        "\n",
        "\n",
        "        # evaluate on test set\n",
        "            test_loss = 0\n",
        "            test_correct = 0\n",
        "            total = 0\n",
        "            auc_label_lst = []\n",
        "            auc_pred_lst = []\n",
        "            people_lst = []\n",
        "            img_vis_lst = []\n",
        "            file_name_lst = []\n",
        "            anchor_lst = []\n",
        "            for i, data in enumerate(testloader):\n",
        "    # =============================================================================\n",
        "    #             if i < 1:\n",
        "    #                 continue\n",
        "    # =============================================================================\n",
        "                with torch.no_grad():\n",
        "                    img, label, img_raw = data[0].cuda(), data[1].cuda(), data[2]\n",
        "                    batch_size = img.size(0)\n",
        "                    _, concat_logits, _, _, _ = net(img, img_raw, add, False)\n",
        "                    # calculate loss\n",
        "                    concat_loss = creterion(concat_logits, label)\n",
        "                    # calculate accuracy\n",
        "                    _, concat_predict = torch.max(concat_logits, 1)\n",
        "                    auc_label_lst += list(label.data.cpu().numpy())\n",
        "                    pred = torch.nn.Softmax(1)(concat_logits)\n",
        "                    auc_pred_lst.append(pred.data.cpu().numpy())\n",
        "                    people_lst.append(data[3])\n",
        "                    file_name_lst += list(data[4])\n",
        "    # =============================================================================\n",
        "    #                 img_vis_lst.append(img_vis)\n",
        "    #                 anchor_lst.append(anchor)\n",
        "    # =============================================================================\n",
        "\n",
        "                    total += batch_size\n",
        "                    test_correct += torch.sum(concat_predict.data == label.data)\n",
        "                    test_loss += concat_loss.item() * batch_size\n",
        "                    progress_bar(i, len(testloader), 'eval test set')\n",
        "            test_acc = float(test_correct) / total\n",
        "            test_loss = test_loss / total\n",
        "\n",
        "            # Final eval purposes\n",
        "            test_losses.append(test_loss)\n",
        "            test_accuracies.append(test_acc)\n",
        "\n",
        "            _print(\n",
        "                'epoch:{} - test loss: {:.3f} and test acc: {:.3f} total sample: {}'.format(\n",
        "                    epoch,\n",
        "                    test_loss,\n",
        "                    test_acc,\n",
        "                    total))\n",
        "\n",
        "\n",
        "            print(f'auc: {roc_auc_score(auc_label_lst, np.concatenate(auc_pred_lst, 0)[:, 1]):.4f}')\n",
        "            np.save('./test_pred.npy', np.concatenate(auc_pred_lst, 0))\n",
        "            np.save('./test_label.npy', np.array(auc_label_lst))\n",
        "            np.save('./test_people.npy', np.concatenate(people_lst, 0))\n",
        "            np.save('./test_file_name.npy', np.array(file_name_lst))\n",
        "\n",
        "    # =============================================================================\n",
        "    #         np.save('./test_anchor_lst.npy', np.concatenate(anchor_lst, 0))\n",
        "    #         np.save('./test_vis.npy', np.concatenate(img_vis_lst, 0))\n",
        "    #         assert 0\n",
        "    # =============================================================================\n",
        "        # save model\n",
        "            net_state_dict = net.module.state_dict()\n",
        "            if not os.path.exists(save_dir):\n",
        "                os.mkdir(save_dir)\n",
        "            torch.save({\n",
        "                'epoch': epoch,\n",
        "                'train_loss': train_loss,\n",
        "                'train_acc': train_acc,\n",
        "                'test_loss': test_loss,\n",
        "                'test_acc': test_acc,\n",
        "                'net_state_dict': net_state_dict},\n",
        "                os.path.join(save_dir, '%03d.ckpt' % epoch))\n",
        "    # =============================================================================\n",
        "    #         assert 0\n",
        "    # =============================================================================\n",
        "    print('finishing training')\n",
        "    # Store final results in a dictionary\n",
        "    training_results = {\n",
        "        'train_losses': train_losses,\n",
        "        'test_losses': test_losses,\n",
        "        'train_accuracies': train_accuracies,\n",
        "        'test_accuracies': test_accuracies\n",
        "    }\n",
        "\n",
        "    return training_results"
      ]
    },
    {
      "cell_type": "markdown",
      "metadata": {
        "id": "J6q0Ehnmiq5X"
      },
      "source": [
        "#### 2. Initialize the Training Session"
      ]
    },
    {
      "cell_type": "code",
      "execution_count": 12,
      "metadata": {
        "id": "IUnLMT78iq5X"
      },
      "outputs": [],
      "source": [
        "# Initialize the training model\n",
        "def initialize_training():\n",
        "    global net, trainloader, valloader, testloader, creterion, raw_optimizer, concat_optimizer, part_optimizer, partcls_optimizer, schedulers, _print, start_epoch, save_dir\n",
        "    os.environ['CUDA_VISIBLE_DEVICES'] = '0'\n",
        "    start_epoch = 1\n",
        "    save_dir = os.path.join(save_dir1, datetime.now().strftime('%Y%m%d_%H%M%S'))\n",
        "    if os.path.exists(save_dir):\n",
        "        raise NameError('model dir exists!')\n",
        "    os.makedirs(save_dir)\n",
        "    logging = init_log(save_dir)\n",
        "    _print = logging.info\n",
        "\n",
        "    # read dataset\n",
        "\n",
        "    if demo_mode == True:\n",
        "        train_path = './input/train/'\n",
        "        val_path = './input/val/'\n",
        "        test_path = './input/test/'\n",
        "    else:\n",
        "        train_path = './input_complete/train/'\n",
        "        val_path = './input_complete/val/'\n",
        "        test_path = './input_complete/test/'\n",
        "\n",
        "    trainset = dataset.SARS(root=train_path, is_train=True)\n",
        "    valset = dataset.SARS(root=val_path, is_train=False)\n",
        "    testset = dataset.SARS(root=test_path, is_train=False)\n",
        "    trainloader = torch.utils.data.DataLoader(trainset, batch_size=BATCH_SIZE,\n",
        "                                              shuffle=True, num_workers=2, drop_last=False)\n",
        "    testloader = torch.utils.data.DataLoader(testset, batch_size=BATCH_SIZE,\n",
        "                                             shuffle=False, num_workers=2, drop_last=False)\n",
        "    valloader = torch.utils.data.DataLoader(valset, batch_size=BATCH_SIZE,\n",
        "                                            shuffle=False, num_workers=2, drop_last=False)\n",
        "\n",
        "    n_class = 2\n",
        "    # define model\n",
        "    # update with ablation test\n",
        "    net = model.attention_net(topN=PROPOSAL_NUM, n_class=n_class, RESNET_ON=RESNET_ON)\n",
        "\n",
        "    if resume:\n",
        "        ckpt = torch.load(resume)\n",
        "        net.load_state_dict(ckpt['net_state_dict'])\n",
        "        start_epoch = ckpt['epoch'] + 1\n",
        "    creterion = torch.nn.CrossEntropyLoss()\n",
        "\n",
        "    # define optimizers\n",
        "    # Updated for ablation test\n",
        "    if RESNET_ON:\n",
        "        raw_parameters = list(net.pretrained_model.parameters())\n",
        "    else:\n",
        "        raw_parameters = []  # No parameters from pretrained_model if RESNET_ON is False\n",
        "\n",
        "    part_parameters = list(net.proposal_net.parameters())\n",
        "    concat_parameters = list(net.concat_net.parameters())\n",
        "    partcls_parameters = list(net.partcls_net.parameters())\n",
        "\n",
        "    if RESNET_ON:\n",
        "        raw_optimizer = torch.optim.SGD(raw_parameters, lr=LR, momentum=0.9, weight_decay=WD)\n",
        "    else:\n",
        "        raw_optimizer = None\n",
        "    concat_optimizer = torch.optim.SGD(concat_parameters, lr=LR, momentum=0.9, weight_decay=WD)\n",
        "    part_optimizer = torch.optim.SGD(part_parameters, lr=LR, momentum=0.9, weight_decay=WD)\n",
        "    partcls_optimizer = torch.optim.SGD(partcls_parameters, lr=LR, momentum=0.9, weight_decay=WD)\n",
        "\n",
        "\n",
        "    # Adjust the schedulers list based on the RESNET_ON flag\n",
        "    # if RESNET_ON:\n",
        "    schedulers = [MultiStepLR(optimizer, milestones=[60, 100], gamma=0.1)\n",
        "              for optimizer in [raw_optimizer, concat_optimizer, part_optimizer, partcls_optimizer]\n",
        "              if optimizer is not None]\n",
        "    # else:\n",
        "    #   schedulers = [MultiStepLR(optimizer, milestones=[60, 100], gamma=0.1)\n",
        "    #               for optimizer in [concat_optimizer, part_optimizer, partcls_optimizer] if optimizer]\n",
        "\n",
        "\n",
        "    if resume:\n",
        "        ckpt = torch.load(resume)\n",
        "        net.pretrained_model.load_state_dict({layer.replace('pretrained_model.', ''): ckpt['net_state_dict'][layer]\n",
        "                                              for layer in ckpt['net_state_dict'] if 'pretrained_model' in layer})\n",
        "\n",
        "        start_epoch = ckpt['epoch'] + 1\n",
        "\n"
      ]
    },
    {
      "cell_type": "markdown",
      "metadata": {
        "id": "aX61jkgKiq5X"
      },
      "source": [
        "#### 3. Training Process"
      ]
    },
    {
      "cell_type": "code",
      "execution_count": 13,
      "metadata": {
        "colab": {
          "base_uri": "https://localhost:8080/"
        },
        "id": "LV9XS6ODiq5X",
        "outputId": "d4e48827-b38b-4c1e-c6f4-a6c52300328a"
      },
      "outputs": [
        {
          "output_type": "stream",
          "name": "stdout",
          "text": [
            "ResNet is ON\n"
          ]
        },
        {
          "output_type": "stream",
          "name": "stderr",
          "text": [
            "/usr/local/lib/python3.10/dist-packages/torch/optim/lr_scheduler.py:143: UserWarning: Detected call of `lr_scheduler.step()` before `optimizer.step()`. In PyTorch 1.1.0 and later, you should call them in the opposite order: `optimizer.step()` before `lr_scheduler.step()`.  Failure to do this will result in PyTorch skipping the first value of the learning rate schedule. See more details at https://pytorch.org/docs/stable/optim.html#how-to-adjust-learning-rate\n",
            "  warnings.warn(\"Detected call of `lr_scheduler.step()` before `optimizer.step()`. \"\n",
            "/usr/lib/python3.10/multiprocessing/popen_fork.py:66: RuntimeWarning: os.fork() was called. os.fork() is incompatible with multithreaded code, and JAX is multithreaded, so this will likely lead to a deadlock.\n",
            "  self.pid = os.fork()\n"
          ]
        },
        {
          "output_type": "stream",
          "name": "stdout",
          "text": [
            " [======================================>.]  Step: 592ms | Tot: 14s888ms | train\b\b\b\b\b\b\b\b\b\b\b\b\b\b\b\b\b\b\b\b\b\b\b\b\b\b\b\b\b\b\b\b\b\b\b\b\b\b\b\b\b\b\b\b\b\b\b\b\b\b\b\b\b\b\b\b\b\b\b\b 27/27 \n"
          ]
        },
        {
          "output_type": "stream",
          "name": "stderr",
          "text": [
            "/usr/lib/python3.10/multiprocessing/popen_fork.py:66: RuntimeWarning: os.fork() was called. os.fork() is incompatible with multithreaded code, and JAX is multithreaded, so this will likely lead to a deadlock.\n",
            "  self.pid = os.fork()\n"
          ]
        },
        {
          "output_type": "stream",
          "name": "stdout",
          "text": [
            "0.48148148148148145\n",
            " [======================================>.]  Step: 144ms | Tot: 5s696ms | eval train set\b\b\b\b\b\b\b\b\b\b\b\b\b\b\b\b\b\b\b\b\b\b\b\b\b\b\b\b\b\b\b\b\b\b\b\b\b\b\b\b\b\b\b\b\b\b\b\b\b\b\b\b\b\b\b\b\b\b\b\b 28/28 \n",
            "auc: 0.3585\n"
          ]
        },
        {
          "output_type": "stream",
          "name": "stderr",
          "text": [
            "/usr/lib/python3.10/multiprocessing/popen_fork.py:66: RuntimeWarning: os.fork() was called. os.fork() is incompatible with multithreaded code, and JAX is multithreaded, so this will likely lead to a deadlock.\n",
            "  self.pid = os.fork()\n"
          ]
        },
        {
          "output_type": "stream",
          "name": "stdout",
          "text": [
            " [======================================>.]  Step: 203ms | Tot: 4s481ms | eval test set\b\b\b\b\b\b\b\b\b\b\b\b\b\b\b\b\b\b\b\b\b\b\b\b\b\b\b\b\b\b\b\b\b\b\b\b\b\b\b\b\b\b\b\b\b\b\b\b\b\b\b\b\b\b\b\b\b\b\b\b 21/21 \n"
          ]
        },
        {
          "output_type": "stream",
          "name": "stderr",
          "text": [
            "/usr/lib/python3.10/multiprocessing/popen_fork.py:66: RuntimeWarning: os.fork() was called. os.fork() is incompatible with multithreaded code, and JAX is multithreaded, so this will likely lead to a deadlock.\n",
            "  self.pid = os.fork()\n"
          ]
        },
        {
          "output_type": "stream",
          "name": "stdout",
          "text": [
            "auc: 0.4292\n"
          ]
        },
        {
          "output_type": "stream",
          "name": "stderr",
          "text": [
            "/usr/lib/python3.10/multiprocessing/popen_fork.py:66: RuntimeWarning: os.fork() was called. os.fork() is incompatible with multithreaded code, and JAX is multithreaded, so this will likely lead to a deadlock.\n",
            "  self.pid = os.fork()\n"
          ]
        },
        {
          "output_type": "stream",
          "name": "stdout",
          "text": [
            " [======================================>.]  Step: 572ms | Tot: 15s333ms | train\b\b\b\b\b\b\b\b\b\b\b\b\b\b\b\b\b\b\b\b\b\b\b\b\b\b\b\b\b\b\b\b\b\b\b\b\b\b\b\b\b\b\b\b\b\b\b\b\b\b\b\b\b\b\b\b\b\b\b\b 27/27 \n",
            "0.4351851851851852\n",
            " [======================================>.]  Step: 123ms | Tot: 5s607ms | eval train set\b\b\b\b\b\b\b\b\b\b\b\b\b\b\b\b\b\b\b\b\b\b\b\b\b\b\b\b\b\b\b\b\b\b\b\b\b\b\b\b\b\b\b\b\b\b\b\b\b\b\b\b\b\b\b\b\b\b\b\b 28/28 \n",
            "auc: 0.3997\n"
          ]
        },
        {
          "output_type": "stream",
          "name": "stderr",
          "text": [
            "/usr/lib/python3.10/multiprocessing/popen_fork.py:66: RuntimeWarning: os.fork() was called. os.fork() is incompatible with multithreaded code, and JAX is multithreaded, so this will likely lead to a deadlock.\n",
            "  self.pid = os.fork()\n"
          ]
        },
        {
          "output_type": "stream",
          "name": "stdout",
          "text": [
            " [======================================>.]  Step: 198ms | Tot: 4s277ms | eval test set\b\b\b\b\b\b\b\b\b\b\b\b\b\b\b\b\b\b\b\b\b\b\b\b\b\b\b\b\b\b\b\b\b\b\b\b\b\b\b\b\b\b\b\b\b\b\b\b\b\b\b\b\b\b\b\b\b\b\b\b 21/21 \n",
            "auc: 0.5064\n"
          ]
        },
        {
          "output_type": "stream",
          "name": "stderr",
          "text": [
            "/usr/lib/python3.10/multiprocessing/popen_fork.py:66: RuntimeWarning: os.fork() was called. os.fork() is incompatible with multithreaded code, and JAX is multithreaded, so this will likely lead to a deadlock.\n",
            "  self.pid = os.fork()\n"
          ]
        },
        {
          "output_type": "stream",
          "name": "stdout",
          "text": [
            " [======================================>.]  Step: 568ms | Tot: 14s775ms | train\b\b\b\b\b\b\b\b\b\b\b\b\b\b\b\b\b\b\b\b\b\b\b\b\b\b\b\b\b\b\b\b\b\b\b\b\b\b\b\b\b\b\b\b\b\b\b\b\b\b\b\b\b\b\b\b\b\b\b\b 27/27 \n",
            "0.5\n",
            " [======================================>.]  Step: 121ms | Tot: 5s807ms | eval train set\b\b\b\b\b\b\b\b\b\b\b\b\b\b\b\b\b\b\b\b\b\b\b\b\b\b\b\b\b\b\b\b\b\b\b\b\b\b\b\b\b\b\b\b\b\b\b\b\b\b\b\b\b\b\b\b\b\b\b\b 28/28 \n",
            "auc: 0.4312\n"
          ]
        },
        {
          "output_type": "stream",
          "name": "stderr",
          "text": [
            "/usr/lib/python3.10/multiprocessing/popen_fork.py:66: RuntimeWarning: os.fork() was called. os.fork() is incompatible with multithreaded code, and JAX is multithreaded, so this will likely lead to a deadlock.\n",
            "  self.pid = os.fork()\n"
          ]
        },
        {
          "output_type": "stream",
          "name": "stdout",
          "text": [
            " [======================================>.]  Step: 201ms | Tot: 4s144ms | eval test set\b\b\b\b\b\b\b\b\b\b\b\b\b\b\b\b\b\b\b\b\b\b\b\b\b\b\b\b\b\b\b\b\b\b\b\b\b\b\b\b\b\b\b\b\b\b\b\b\b\b\b\b\b\b\b\b\b\b\b\b 21/21 \n"
          ]
        },
        {
          "output_type": "stream",
          "name": "stderr",
          "text": [
            "/usr/lib/python3.10/multiprocessing/popen_fork.py:66: RuntimeWarning: os.fork() was called. os.fork() is incompatible with multithreaded code, and JAX is multithreaded, so this will likely lead to a deadlock.\n",
            "  self.pid = os.fork()\n"
          ]
        },
        {
          "output_type": "stream",
          "name": "stdout",
          "text": [
            "auc: 0.4821\n"
          ]
        },
        {
          "output_type": "stream",
          "name": "stderr",
          "text": [
            "/usr/lib/python3.10/multiprocessing/popen_fork.py:66: RuntimeWarning: os.fork() was called. os.fork() is incompatible with multithreaded code, and JAX is multithreaded, so this will likely lead to a deadlock.\n",
            "  self.pid = os.fork()\n"
          ]
        },
        {
          "output_type": "stream",
          "name": "stdout",
          "text": [
            " [======================================>.]  Step: 574ms | Tot: 15s69ms | train \b\b\b\b\b\b\b\b\b\b\b\b\b\b\b\b\b\b\b\b\b\b\b\b\b\b\b\b\b\b\b\b\b\b\b\b\b\b\b\b\b\b\b\b\b\b\b\b\b\b\b\b\b\b\b\b\b\b\b\b 27/27 \n"
          ]
        },
        {
          "output_type": "stream",
          "name": "stderr",
          "text": [
            "/usr/lib/python3.10/multiprocessing/popen_fork.py:66: RuntimeWarning: os.fork() was called. os.fork() is incompatible with multithreaded code, and JAX is multithreaded, so this will likely lead to a deadlock.\n",
            "  self.pid = os.fork()\n"
          ]
        },
        {
          "output_type": "stream",
          "name": "stdout",
          "text": [
            "0.42592592592592593\n",
            " [======================================>.]  Step: 160ms | Tot: 6s195ms | eval train set\b\b\b\b\b\b\b\b\b\b\b\b\b\b\b\b\b\b\b\b\b\b\b\b\b\b\b\b\b\b\b\b\b\b\b\b\b\b\b\b\b\b\b\b\b\b\b\b\b\b\b\b\b\b\b\b\b\b\b\b 28/28 \n",
            "auc: 0.4317\n"
          ]
        },
        {
          "output_type": "stream",
          "name": "stderr",
          "text": [
            "/usr/lib/python3.10/multiprocessing/popen_fork.py:66: RuntimeWarning: os.fork() was called. os.fork() is incompatible with multithreaded code, and JAX is multithreaded, so this will likely lead to a deadlock.\n",
            "  self.pid = os.fork()\n"
          ]
        },
        {
          "output_type": "stream",
          "name": "stdout",
          "text": [
            " [======================================>.]  Step: 202ms | Tot: 4s238ms | eval test set\b\b\b\b\b\b\b\b\b\b\b\b\b\b\b\b\b\b\b\b\b\b\b\b\b\b\b\b\b\b\b\b\b\b\b\b\b\b\b\b\b\b\b\b\b\b\b\b\b\b\b\b\b\b\b\b\b\b\b\b 21/21 \n"
          ]
        },
        {
          "output_type": "stream",
          "name": "stderr",
          "text": [
            "/usr/lib/python3.10/multiprocessing/popen_fork.py:66: RuntimeWarning: os.fork() was called. os.fork() is incompatible with multithreaded code, and JAX is multithreaded, so this will likely lead to a deadlock.\n",
            "  self.pid = os.fork()\n"
          ]
        },
        {
          "output_type": "stream",
          "name": "stdout",
          "text": [
            "auc: 0.5026\n"
          ]
        },
        {
          "output_type": "stream",
          "name": "stderr",
          "text": [
            "/usr/lib/python3.10/multiprocessing/popen_fork.py:66: RuntimeWarning: os.fork() was called. os.fork() is incompatible with multithreaded code, and JAX is multithreaded, so this will likely lead to a deadlock.\n",
            "  self.pid = os.fork()\n"
          ]
        },
        {
          "output_type": "stream",
          "name": "stdout",
          "text": [
            " [======================================>.]  Step: 578ms | Tot: 15s106ms | train\b\b\b\b\b\b\b\b\b\b\b\b\b\b\b\b\b\b\b\b\b\b\b\b\b\b\b\b\b\b\b\b\b\b\b\b\b\b\b\b\b\b\b\b\b\b\b\b\b\b\b\b\b\b\b\b\b\b\b\b 27/27 \n",
            "0.4444444444444444\n",
            " [======================================>.]  Step: 116ms | Tot: 5s619ms | eval train set\b\b\b\b\b\b\b\b\b\b\b\b\b\b\b\b\b\b\b\b\b\b\b\b\b\b\b\b\b\b\b\b\b\b\b\b\b\b\b\b\b\b\b\b\b\b\b\b\b\b\b\b\b\b\b\b\b\b\b\b 28/28 \n",
            "auc: 0.4457\n"
          ]
        },
        {
          "output_type": "stream",
          "name": "stderr",
          "text": [
            "/usr/lib/python3.10/multiprocessing/popen_fork.py:66: RuntimeWarning: os.fork() was called. os.fork() is incompatible with multithreaded code, and JAX is multithreaded, so this will likely lead to a deadlock.\n",
            "  self.pid = os.fork()\n"
          ]
        },
        {
          "output_type": "stream",
          "name": "stdout",
          "text": [
            " [======================================>.]  Step: 209ms | Tot: 4s358ms | eval test set\b\b\b\b\b\b\b\b\b\b\b\b\b\b\b\b\b\b\b\b\b\b\b\b\b\b\b\b\b\b\b\b\b\b\b\b\b\b\b\b\b\b\b\b\b\b\b\b\b\b\b\b\b\b\b\b\b\b\b\b 21/21 \n"
          ]
        },
        {
          "output_type": "stream",
          "name": "stderr",
          "text": [
            "/usr/lib/python3.10/multiprocessing/popen_fork.py:66: RuntimeWarning: os.fork() was called. os.fork() is incompatible with multithreaded code, and JAX is multithreaded, so this will likely lead to a deadlock.\n",
            "  self.pid = os.fork()\n"
          ]
        },
        {
          "output_type": "stream",
          "name": "stdout",
          "text": [
            "auc: 0.5670\n",
            "finishing training\n"
          ]
        }
      ],
      "source": [
        "# Initialize training parameters based on the mode\n",
        "if demo_mode == True:\n",
        "    END_EPOCH = 6\n",
        "else:\n",
        "    END_EPOCH = 500\n",
        "\n",
        "# Initialize the training setup with RESNET_ON consideration\n",
        "initialize_training()  # Pass RESNET_ON if the function needs it\n",
        "\n",
        "# Start the training process\n",
        "training_results = train(net=net,\n",
        "             batch_size=BATCH_SIZE,\n",
        "             proposal_num=PROPOSAL_NUM,\n",
        "             save_freq=SAVE_FREQ,\n",
        "             lr=LR,\n",
        "             wd=WD,\n",
        "             save_directory=save_dir,\n",
        "             resume_file=resume,\n",
        "             end_epoch=END_EPOCH,\n",
        "             RESNET_ON=RESNET_ON)"
      ]
    },
    {
      "cell_type": "markdown",
      "metadata": {
        "id": "gX6bCcZNuxmz"
      },
      "source": [
        "## VI. Evaluations\n",
        "\n",
        "### i. Metrics Descriptions\n",
        "- There are three metrics we used for evaluation: **Loss**, **Accuracy** and **Area Under the Curve (AUC)**.\n",
        "- The model is switched to evaluation mode using `net.eval()` to ensure layers like dropout and batch normalization work in inference mode.\n",
        "- **Loss** is computed using the `criterion`, which is typically a loss function suitable for classification tasks (e.g., cross-entropy loss) during the testing phase for each batch of data.\n",
        "- **Accuracy** is calculated by comparing the predicted and true labels to track the model's performance during testing.\n",
        "- Lists named `auc_label_lst` and `auc_pred_lst` suggest that the **Area Under the Curve (AUC)** metric is computed, which is common for binary classification tasks to evaluate the model's ability to distinguish between classes.\n",
        "- Using functions like `concat_loss` and `creterion` implies that the evaluation involves loss calculation, contributing to the overall measurement of the model's performance."
      ]
    },
    {
      "cell_type": "markdown",
      "metadata": {
        "id": "D656JirdzMxN"
      },
      "source": [
        "### ii. Evaluation Code\n",
        "#### Define and Call the Testing Functions\n",
        "***Note:*** As explained, we utilize the **pretrain model** from the paper's GitHub repo (https://drive.google.com/file/d/1vGOnn_KPy9InVgGdymivurewcWIK5f0X/view?usp=sharing) for testing."
      ]
    },
    {
      "cell_type": "code",
      "execution_count": 14,
      "metadata": {
        "colab": {
          "base_uri": "https://localhost:8080/"
        },
        "id": "uv1tDKujzMxN",
        "outputId": "b554b060-4009-45f8-ab41-3cd001983c2d"
      },
      "outputs": [
        {
          "output_type": "stream",
          "name": "stderr",
          "text": [
            "/usr/lib/python3.10/multiprocessing/popen_fork.py:66: RuntimeWarning: os.fork() was called. os.fork() is incompatible with multithreaded code, and JAX is multithreaded, so this will likely lead to a deadlock.\n",
            "  self.pid = os.fork()\n"
          ]
        }
      ],
      "source": [
        "def test(model_path, net, testloader, creterion):\n",
        "    checkpoint = torch.load(model_path)\n",
        "\n",
        "    if RESNET_ON:\n",
        "        net.load_state_dict(checkpoint['net_state_dict'])\n",
        "    else:\n",
        "        # Skip loading the pretrained model parameters\n",
        "        net_state_dict = {k: v for k, v in checkpoint['net_state_dict'].items() if not k.startswith('pretrained_model.')}\n",
        "        net.load_state_dict(net_state_dict, strict=False)\n",
        "\n",
        "    net.eval()  # Set the model to evaluation mode\n",
        "    test_loss = 0\n",
        "    test_correct = 0\n",
        "    total = 0\n",
        "    auc_label_lst = []\n",
        "    auc_pred_lst = []\n",
        "\n",
        "    with torch.no_grad():\n",
        "        for data in testloader:\n",
        "            img, label, img_raw = data[0].cuda(), data[1].cuda(), data[2].cuda()\n",
        "            outputs = net(img, img_raw)\n",
        "\n",
        "            # Check outputs format, and select the right output if necessary\n",
        "            if isinstance(outputs, list):\n",
        "                outputs = outputs[0]  # Assuming the first element is the logits\n",
        "\n",
        "            loss = creterion(outputs, label)\n",
        "            test_loss += loss.item() * label.size(0)\n",
        "            _, predicted = torch.max(outputs, 1)\n",
        "            test_correct += (predicted == label).sum().item()\n",
        "            total += label.size(0)\n",
        "            auc_label_lst.append(label.cpu().numpy())\n",
        "            auc_pred_lst.append(outputs.softmax(dim=1).cpu().numpy())  # Using softmax to get probabilities for AUC\n",
        "\n",
        "    test_loss /= total\n",
        "    test_acc = test_correct / total\n",
        "    auc_score = roc_auc_score(np.concatenate(auc_label_lst), np.concatenate(auc_pred_lst, axis=0)[:, 1])\n",
        "\n",
        "    return {'loss': test_loss, 'accuracy': test_acc, 'auc': auc_score}\n",
        "\n",
        "model_path = 'model_test.pth'\n",
        "\n",
        "# Move model to GPU\n",
        "net = net.cuda()\n",
        "\n",
        "# Call the test function\n",
        "test_results = test(model_path, net, testloader, creterion)"
      ]
    },
    {
      "cell_type": "markdown",
      "metadata": {
        "id": "10UW6PvZ51yA"
      },
      "source": [
        "# Results\n",
        "## I. Table of results\n",
        "### i. Define the Results Function\n",
        "We define the `summarize_results` to display results based on two different modes by the `display_mode` parameter:\n",
        "- **Mode 1**: Compare the Training data vs. Testing data, for **main reproducibility** purpose.\n",
        "- **Mode 2**: Compare the RESNET model vs. Non-RESNET model, for **ablation testing** purpose."
      ]
    },
    {
      "cell_type": "code",
      "execution_count": 15,
      "metadata": {
        "id": "LjW9bCkouv8O"
      },
      "outputs": [],
      "source": [
        "def summarize_results(train_losses, val_losses, train_accuracies, val_accuracies, test_results=None, display_mode=1,\n",
        "                      compare_train_losses=None, compare_val_losses=None, compare_train_accuracies=None, compare_val_accuracies=None):\n",
        "    if display_mode == 1:\n",
        "        # Mode 1: Training vs. Testing\n",
        "        data = {\n",
        "            \"Metric\": [\"Loss\", \"Accuracy\"],\n",
        "            \"Training\": [f\"{train_losses[-1]:.4f}\", f\"{train_accuracies[-1] * 100:.2f}%\"],\n",
        "            \"Validation\": [f\"{val_losses[-1]:.4f}\", f\"{val_accuracies[-1] * 100:.2f}%\"],\n",
        "            \"Test\": [f\"{test_results['loss']:.4f}\", f\"{test_results['accuracy'] * 100:.2f}%\"]\n",
        "        }\n",
        "\n",
        "        # Create DataFrame and transpose it\n",
        "        results_df = pd.DataFrame(data)\n",
        "        results_df = results_df.set_index(\"Metric\")\n",
        "        print(\"Training vs. Testing Data\")\n",
        "\n",
        "        plt.figure(figsize=(12, 5))\n",
        "        plt.subplot(1, 2, 1)\n",
        "        plt.plot(train_losses, label='Training Loss')\n",
        "        plt.plot(val_losses, label='Validation Loss', linestyle='--')\n",
        "        plt.title('Loss over epochs for ResNet Model', fontsize=12, fontweight='bold')\n",
        "        plt.xlabel('Epochs')\n",
        "        plt.ylabel('Loss')\n",
        "        plt.legend()\n",
        "\n",
        "        plt.subplot(1, 2, 2)\n",
        "        plt.plot(train_accuracies, label='Training Accuracy')\n",
        "        plt.plot(val_accuracies, label='Validation Accuracy', linestyle='--')\n",
        "        plt.title('Accuracy over epochs for ResNet Model', fontsize=12, fontweight='bold')\n",
        "        plt.xlabel('Epochs')\n",
        "        plt.ylabel('Accuracy')\n",
        "        plt.legend()\n",
        "\n",
        "    elif display_mode == 2:\n",
        "        # Mode 2: RESNET vs Non-RESNET\n",
        "        data = {\n",
        "            \"Training\": {\n",
        "                \"ResNet Loss\": f\"{train_losses[-1]:.4f}\",\n",
        "                \"Non-ResNet Loss\": f\"{compare_train_losses[-1]:.4f}\",\n",
        "                \"ResNet Accuracy\": f\"{train_accuracies[-1] * 100:.2f}%\",\n",
        "                \"Non-ResNet Accuracy\": f\"{compare_train_accuracies[-1] * 100:.2f}%\"\n",
        "            },\n",
        "            \"Validation\": {\n",
        "                \"ResNet Loss\": f\"{val_losses[-1]:.4f}\",\n",
        "                \"Non-ResNet Loss\": f\"{compare_val_losses[-1]:.4f}\",\n",
        "                \"ResNet Accuracy\": f\"{val_accuracies[-1] * 100:.2f}%\",\n",
        "                \"Non-ResNet Accuracy\": f\"{compare_val_accuracies[-1] * 100:.2f}%\"\n",
        "            }\n",
        "        }\n",
        "        results_df = pd.DataFrame(data)\n",
        "        results_df = results_df.T\n",
        "        print(\"RESNET vs. Non-RESNET Comparison\")\n",
        "\n",
        "        # Extract the data for ResNet\n",
        "        resnet_train_losses = training_results['train_losses']\n",
        "        resnet_val_losses = training_results['test_losses']  # Assuming validation results are under 'test_losses'\n",
        "        resnet_train_accuracies = training_results['train_accuracies']\n",
        "        resnet_val_accuracies = training_results['test_accuracies']\n",
        "\n",
        "        # Extract the data for Non-ResNet\n",
        "        nonresnet_train_losses = compare_results['train_losses']\n",
        "        nonresnet_val_losses = compare_results['test_losses']  # Assuming validation results are under 'test_losses'\n",
        "        nonresnet_train_accuracies = compare_results['train_accuracies']\n",
        "        nonresnet_val_accuracies = compare_results['test_accuracies']\n",
        "\n",
        "        plt.figure(figsize=(12, 5))\n",
        "\n",
        "        # Plot training and validation loss\n",
        "        plt.subplot(1, 2, 1)\n",
        "        plt.plot(resnet_train_losses, label='RESNET Training Loss')\n",
        "        plt.plot(resnet_val_losses, label='RESNET Validation Loss', linestyle='--')\n",
        "        plt.plot(nonresnet_train_losses, label='Non-RESNET Training Loss', linestyle=':')\n",
        "        plt.plot(nonresnet_val_losses, label='Non-RESNET Validation Loss', linestyle='-.')\n",
        "        plt.title('Loss over Epochs for Ablation: ResNet vs. Non-ResNet', fontsize=11, fontweight='bold')\n",
        "        plt.xlabel('Epochs')\n",
        "        plt.ylabel('Loss')\n",
        "        plt.legend()\n",
        "\n",
        "        # Plot training and validation accuracy\n",
        "        plt.subplot(1, 2, 2)\n",
        "        plt.plot(resnet_train_accuracies, label='RESNET Training Accuracy')\n",
        "        plt.plot(resnet_val_accuracies, label='RESNET Validation Accuracy', linestyle='--')\n",
        "        plt.plot(nonresnet_train_accuracies, label='Non-RESNET Training Accuracy', linestyle=':')\n",
        "        plt.plot(nonresnet_val_accuracies, label='Non-RESNET Validation Accuracy', linestyle='-.')\n",
        "        plt.title('Accuracy over Epochs for Ablation: ResNet vs. Non-ResNet', fontsize=11, fontweight='bold')\n",
        "        plt.xlabel('Epochs')\n",
        "        plt.ylabel('Accuracy')\n",
        "        plt.legend()\n",
        "\n",
        "\n",
        "    else:\n",
        "        print(\"Invalid display mode\")\n",
        "\n",
        "    # Display the results table\n",
        "    display(results_df)\n",
        "    print(\"Test Model AUC: \", f\"{test_results['auc']:.4f}\")\n",
        "\n",
        "    print(\"Note: The test data is based on Pre-Trained Model\")\n",
        "    print(\"\")\n",
        "    print(\"Here are the diagrams for the overall trend when training/validating data.\")\n",
        "    plt.show()"
      ]
    },
    {
      "cell_type": "markdown",
      "metadata": {
        "id": "CvpdO2T5iq5Z"
      },
      "source": [
        "### ii. Run the Evaluation and Display the Results\n",
        "The result consists of two parts:\n",
        "1. The table of key measurements of our model.\n",
        "2. The diagram shows the trends of measures across the epoch.\n",
        "***Note*** Here, we use **display mode 1** for the main reproducibility."
      ]
    },
    {
      "cell_type": "code",
      "execution_count": 16,
      "metadata": {
        "colab": {
          "base_uri": "https://localhost:8080/",
          "height": 700
        },
        "id": "U8C1HPvViq5Z",
        "outputId": "3b69093a-fc02-4f56-fa66-658b72c9c657"
      },
      "outputs": [
        {
          "output_type": "stream",
          "name": "stdout",
          "text": [
            "Training vs. Testing Data\n"
          ]
        },
        {
          "output_type": "display_data",
          "data": {
            "text/plain": [
              "         Training Validation    Test\n",
              "Metric                              \n",
              "Loss       0.7551     0.6835  0.2715\n",
              "Accuracy   46.36%     60.71%  91.67%"
            ],
            "text/html": [
              "\n",
              "  <div id=\"df-6ba2510b-c8be-4b40-a9e3-a4be6006da4d\" class=\"colab-df-container\">\n",
              "    <div>\n",
              "<style scoped>\n",
              "    .dataframe tbody tr th:only-of-type {\n",
              "        vertical-align: middle;\n",
              "    }\n",
              "\n",
              "    .dataframe tbody tr th {\n",
              "        vertical-align: top;\n",
              "    }\n",
              "\n",
              "    .dataframe thead th {\n",
              "        text-align: right;\n",
              "    }\n",
              "</style>\n",
              "<table border=\"1\" class=\"dataframe\">\n",
              "  <thead>\n",
              "    <tr style=\"text-align: right;\">\n",
              "      <th></th>\n",
              "      <th>Training</th>\n",
              "      <th>Validation</th>\n",
              "      <th>Test</th>\n",
              "    </tr>\n",
              "    <tr>\n",
              "      <th>Metric</th>\n",
              "      <th></th>\n",
              "      <th></th>\n",
              "      <th></th>\n",
              "    </tr>\n",
              "  </thead>\n",
              "  <tbody>\n",
              "    <tr>\n",
              "      <th>Loss</th>\n",
              "      <td>0.7551</td>\n",
              "      <td>0.6835</td>\n",
              "      <td>0.2715</td>\n",
              "    </tr>\n",
              "    <tr>\n",
              "      <th>Accuracy</th>\n",
              "      <td>46.36%</td>\n",
              "      <td>60.71%</td>\n",
              "      <td>91.67%</td>\n",
              "    </tr>\n",
              "  </tbody>\n",
              "</table>\n",
              "</div>\n",
              "    <div class=\"colab-df-buttons\">\n",
              "\n",
              "  <div class=\"colab-df-container\">\n",
              "    <button class=\"colab-df-convert\" onclick=\"convertToInteractive('df-6ba2510b-c8be-4b40-a9e3-a4be6006da4d')\"\n",
              "            title=\"Convert this dataframe to an interactive table.\"\n",
              "            style=\"display:none;\">\n",
              "\n",
              "  <svg xmlns=\"http://www.w3.org/2000/svg\" height=\"24px\" viewBox=\"0 -960 960 960\">\n",
              "    <path d=\"M120-120v-720h720v720H120Zm60-500h600v-160H180v160Zm220 220h160v-160H400v160Zm0 220h160v-160H400v160ZM180-400h160v-160H180v160Zm440 0h160v-160H620v160ZM180-180h160v-160H180v160Zm440 0h160v-160H620v160Z\"/>\n",
              "  </svg>\n",
              "    </button>\n",
              "\n",
              "  <style>\n",
              "    .colab-df-container {\n",
              "      display:flex;\n",
              "      gap: 12px;\n",
              "    }\n",
              "\n",
              "    .colab-df-convert {\n",
              "      background-color: #E8F0FE;\n",
              "      border: none;\n",
              "      border-radius: 50%;\n",
              "      cursor: pointer;\n",
              "      display: none;\n",
              "      fill: #1967D2;\n",
              "      height: 32px;\n",
              "      padding: 0 0 0 0;\n",
              "      width: 32px;\n",
              "    }\n",
              "\n",
              "    .colab-df-convert:hover {\n",
              "      background-color: #E2EBFA;\n",
              "      box-shadow: 0px 1px 2px rgba(60, 64, 67, 0.3), 0px 1px 3px 1px rgba(60, 64, 67, 0.15);\n",
              "      fill: #174EA6;\n",
              "    }\n",
              "\n",
              "    .colab-df-buttons div {\n",
              "      margin-bottom: 4px;\n",
              "    }\n",
              "\n",
              "    [theme=dark] .colab-df-convert {\n",
              "      background-color: #3B4455;\n",
              "      fill: #D2E3FC;\n",
              "    }\n",
              "\n",
              "    [theme=dark] .colab-df-convert:hover {\n",
              "      background-color: #434B5C;\n",
              "      box-shadow: 0px 1px 3px 1px rgba(0, 0, 0, 0.15);\n",
              "      filter: drop-shadow(0px 1px 2px rgba(0, 0, 0, 0.3));\n",
              "      fill: #FFFFFF;\n",
              "    }\n",
              "  </style>\n",
              "\n",
              "    <script>\n",
              "      const buttonEl =\n",
              "        document.querySelector('#df-6ba2510b-c8be-4b40-a9e3-a4be6006da4d button.colab-df-convert');\n",
              "      buttonEl.style.display =\n",
              "        google.colab.kernel.accessAllowed ? 'block' : 'none';\n",
              "\n",
              "      async function convertToInteractive(key) {\n",
              "        const element = document.querySelector('#df-6ba2510b-c8be-4b40-a9e3-a4be6006da4d');\n",
              "        const dataTable =\n",
              "          await google.colab.kernel.invokeFunction('convertToInteractive',\n",
              "                                                    [key], {});\n",
              "        if (!dataTable) return;\n",
              "\n",
              "        const docLinkHtml = 'Like what you see? Visit the ' +\n",
              "          '<a target=\"_blank\" href=https://colab.research.google.com/notebooks/data_table.ipynb>data table notebook</a>'\n",
              "          + ' to learn more about interactive tables.';\n",
              "        element.innerHTML = '';\n",
              "        dataTable['output_type'] = 'display_data';\n",
              "        await google.colab.output.renderOutput(dataTable, element);\n",
              "        const docLink = document.createElement('div');\n",
              "        docLink.innerHTML = docLinkHtml;\n",
              "        element.appendChild(docLink);\n",
              "      }\n",
              "    </script>\n",
              "  </div>\n",
              "\n",
              "\n",
              "<div id=\"df-a28daf9f-6126-49bc-9583-cfb7a82bbbae\">\n",
              "  <button class=\"colab-df-quickchart\" onclick=\"quickchart('df-a28daf9f-6126-49bc-9583-cfb7a82bbbae')\"\n",
              "            title=\"Suggest charts\"\n",
              "            style=\"display:none;\">\n",
              "\n",
              "<svg xmlns=\"http://www.w3.org/2000/svg\" height=\"24px\"viewBox=\"0 0 24 24\"\n",
              "     width=\"24px\">\n",
              "    <g>\n",
              "        <path d=\"M19 3H5c-1.1 0-2 .9-2 2v14c0 1.1.9 2 2 2h14c1.1 0 2-.9 2-2V5c0-1.1-.9-2-2-2zM9 17H7v-7h2v7zm4 0h-2V7h2v10zm4 0h-2v-4h2v4z\"/>\n",
              "    </g>\n",
              "</svg>\n",
              "  </button>\n",
              "\n",
              "<style>\n",
              "  .colab-df-quickchart {\n",
              "      --bg-color: #E8F0FE;\n",
              "      --fill-color: #1967D2;\n",
              "      --hover-bg-color: #E2EBFA;\n",
              "      --hover-fill-color: #174EA6;\n",
              "      --disabled-fill-color: #AAA;\n",
              "      --disabled-bg-color: #DDD;\n",
              "  }\n",
              "\n",
              "  [theme=dark] .colab-df-quickchart {\n",
              "      --bg-color: #3B4455;\n",
              "      --fill-color: #D2E3FC;\n",
              "      --hover-bg-color: #434B5C;\n",
              "      --hover-fill-color: #FFFFFF;\n",
              "      --disabled-bg-color: #3B4455;\n",
              "      --disabled-fill-color: #666;\n",
              "  }\n",
              "\n",
              "  .colab-df-quickchart {\n",
              "    background-color: var(--bg-color);\n",
              "    border: none;\n",
              "    border-radius: 50%;\n",
              "    cursor: pointer;\n",
              "    display: none;\n",
              "    fill: var(--fill-color);\n",
              "    height: 32px;\n",
              "    padding: 0;\n",
              "    width: 32px;\n",
              "  }\n",
              "\n",
              "  .colab-df-quickchart:hover {\n",
              "    background-color: var(--hover-bg-color);\n",
              "    box-shadow: 0 1px 2px rgba(60, 64, 67, 0.3), 0 1px 3px 1px rgba(60, 64, 67, 0.15);\n",
              "    fill: var(--button-hover-fill-color);\n",
              "  }\n",
              "\n",
              "  .colab-df-quickchart-complete:disabled,\n",
              "  .colab-df-quickchart-complete:disabled:hover {\n",
              "    background-color: var(--disabled-bg-color);\n",
              "    fill: var(--disabled-fill-color);\n",
              "    box-shadow: none;\n",
              "  }\n",
              "\n",
              "  .colab-df-spinner {\n",
              "    border: 2px solid var(--fill-color);\n",
              "    border-color: transparent;\n",
              "    border-bottom-color: var(--fill-color);\n",
              "    animation:\n",
              "      spin 1s steps(1) infinite;\n",
              "  }\n",
              "\n",
              "  @keyframes spin {\n",
              "    0% {\n",
              "      border-color: transparent;\n",
              "      border-bottom-color: var(--fill-color);\n",
              "      border-left-color: var(--fill-color);\n",
              "    }\n",
              "    20% {\n",
              "      border-color: transparent;\n",
              "      border-left-color: var(--fill-color);\n",
              "      border-top-color: var(--fill-color);\n",
              "    }\n",
              "    30% {\n",
              "      border-color: transparent;\n",
              "      border-left-color: var(--fill-color);\n",
              "      border-top-color: var(--fill-color);\n",
              "      border-right-color: var(--fill-color);\n",
              "    }\n",
              "    40% {\n",
              "      border-color: transparent;\n",
              "      border-right-color: var(--fill-color);\n",
              "      border-top-color: var(--fill-color);\n",
              "    }\n",
              "    60% {\n",
              "      border-color: transparent;\n",
              "      border-right-color: var(--fill-color);\n",
              "    }\n",
              "    80% {\n",
              "      border-color: transparent;\n",
              "      border-right-color: var(--fill-color);\n",
              "      border-bottom-color: var(--fill-color);\n",
              "    }\n",
              "    90% {\n",
              "      border-color: transparent;\n",
              "      border-bottom-color: var(--fill-color);\n",
              "    }\n",
              "  }\n",
              "</style>\n",
              "\n",
              "  <script>\n",
              "    async function quickchart(key) {\n",
              "      const quickchartButtonEl =\n",
              "        document.querySelector('#' + key + ' button');\n",
              "      quickchartButtonEl.disabled = true;  // To prevent multiple clicks.\n",
              "      quickchartButtonEl.classList.add('colab-df-spinner');\n",
              "      try {\n",
              "        const charts = await google.colab.kernel.invokeFunction(\n",
              "            'suggestCharts', [key], {});\n",
              "      } catch (error) {\n",
              "        console.error('Error during call to suggestCharts:', error);\n",
              "      }\n",
              "      quickchartButtonEl.classList.remove('colab-df-spinner');\n",
              "      quickchartButtonEl.classList.add('colab-df-quickchart-complete');\n",
              "    }\n",
              "    (() => {\n",
              "      let quickchartButtonEl =\n",
              "        document.querySelector('#df-a28daf9f-6126-49bc-9583-cfb7a82bbbae button');\n",
              "      quickchartButtonEl.style.display =\n",
              "        google.colab.kernel.accessAllowed ? 'block' : 'none';\n",
              "    })();\n",
              "  </script>\n",
              "</div>\n",
              "    </div>\n",
              "  </div>\n"
            ],
            "application/vnd.google.colaboratory.intrinsic+json": {
              "type": "dataframe",
              "summary": "{\n  \"name\": \"                  display_mode=1)\",\n  \"rows\": 2,\n  \"fields\": [\n    {\n      \"column\": \"Metric\",\n      \"properties\": {\n        \"dtype\": \"string\",\n        \"num_unique_values\": 2,\n        \"samples\": [\n          \"Accuracy\",\n          \"Loss\"\n        ],\n        \"semantic_type\": \"\",\n        \"description\": \"\"\n      }\n    },\n    {\n      \"column\": \"Training\",\n      \"properties\": {\n        \"dtype\": \"string\",\n        \"num_unique_values\": 2,\n        \"samples\": [\n          \"46.36%\",\n          \"0.7551\"\n        ],\n        \"semantic_type\": \"\",\n        \"description\": \"\"\n      }\n    },\n    {\n      \"column\": \"Validation\",\n      \"properties\": {\n        \"dtype\": \"string\",\n        \"num_unique_values\": 2,\n        \"samples\": [\n          \"60.71%\",\n          \"0.6835\"\n        ],\n        \"semantic_type\": \"\",\n        \"description\": \"\"\n      }\n    },\n    {\n      \"column\": \"Test\",\n      \"properties\": {\n        \"dtype\": \"string\",\n        \"num_unique_values\": 2,\n        \"samples\": [\n          \"91.67%\",\n          \"0.2715\"\n        ],\n        \"semantic_type\": \"\",\n        \"description\": \"\"\n      }\n    }\n  ]\n}"
            }
          },
          "metadata": {}
        },
        {
          "output_type": "stream",
          "name": "stdout",
          "text": [
            "Test Model AUC:  0.9222\n",
            "Note: The test data is based on Pre-Trained Model\n",
            "\n",
            "Here are the diagrams for the overall trend when training/validating data.\n"
          ]
        },
        {
          "output_type": "display_data",
          "data": {
            "text/plain": [
              "<Figure size 1200x500 with 2 Axes>"
            ],
            "image/png": "[encoded data removed]"
          },
          "metadata": {}
        }
      ],
      "source": [
        "summarize_results(training_results['train_losses'],\n",
        "                  training_results['test_losses'],\n",
        "                  training_results['train_accuracies'],\n",
        "                  training_results['test_accuracies'],\n",
        "                  test_results=test_results,\n",
        "                  display_mode=1)"
      ]
    },
    {
      "cell_type": "markdown",
      "metadata": {
        "id": "ohUM16Qwiq5Z"
      },
      "source": [
        "## II. Results and Analysis\n",
        "Based on the output we get, our analysis is as follows:\n",
        "- **Training and Validation Accuracy**:\n",
        "  - The replication attempt of the original study showed notable results, with the final training accuracy reaching 62.73%.\n",
        "  - However, there was a significant drop in validation accuracy to 67.86%, which raises concerns about the model's consistency.\n",
        "  \n",
        "- **Testing Performance(*using pre-trained model*)** :\n",
        "  - Using the model loaded from the GitHub repository, the test accuracy was remarkably high at 91.67%.\n",
        "  - The Area Under the Curve (AUC) was 0.9324, typically indicative of good model performance.\n",
        "\n",
        "- **Loss and Accuracy Over Epochs**:\n",
        "  - The test loss was recorded at a concerning 0.2548.\n",
        "  - Observations from the loss and accuracy graphs over epochs revealed a pattern where the loss increases after an initial decrease, and accuracy seems to plateau.\n",
        "  - This pattern might indicate issues with the model's learning capacity and ability to generalize to new data.\n",
        "\n",
        "## III. Discussion about Hypothesis and Experimental Insights\n",
        "### 1. Hypothesis Overview\n",
        "- **Deep Learning System (DRENet)**:\n",
        "  - The study hypothesizes that a deep learning-based CT diagnosis system, DRENet, can accurately distinguish COVID-19 from bacterial pneumonia and healthy states through chest CT images.\n",
        "  - This hypothesis relies on integrating ResNet50 with a Feature Pyramid Network (FPN) to enhance the model's sensitivity to subtle lung pathologies characteristic of COVID-19, often overlooked by traditional imaging methods.\n",
        "\n",
        "### 2. Experimental Results\n",
        "- **Performance Metrics**:\n",
        "  - The results validate the hypothesis with the model distinguishing COVID-19 patients with high accuracy.\n",
        "  - Achieved metrics include an Area Under the Curve (AUC) of 0.95, a recall of 0.96, and a precision of 0.79.\n",
        "  - These figures confirm the model's ability to identify COVID-19 from similar pulmonary conditions correctly.\n",
        "- **Extended Applications**:\n",
        "  - The model consistently demonstrated high recall and precision when applied to differentiate among COVID-19, bacterial pneumonia, and healthy individuals.\n",
        "  - This emphasizes its potential utility in clinical environments where rapid and accurate diagnosis is essential.\n",
        "\n",
        "### 3. Model Implementation and Insights\n",
        "- **Code and Architecture**:\n",
        "  - The underlying code and architectural setup enable precise feature extraction and analysis of critical imaging characteristics like ground-glass opacities, essential for diagnosing COVID-19.\n",
        "- **Patient-Level Diagnosis**:\n",
        "  - By integrating image-level predictions into a patient-level diagnosis framework, the model significantly enhances diagnostic accuracy and the interpretability of results, aiding clinical decision-making processes.\n",
        "- **Accessibility and Adaptability**:\n",
        "  - The model and its source code are publicly accessible, promoting its utility and adaptability for ongoing improvements and applications across varied clinical settings.\n",
        "\n",
        "## IV. Experiments Beyond the Original Paper\n",
        "### i. Ablation Study\n",
        "In the proposal, we plan to perform several ablation experiments against the original model from the paper.\n",
        "1. Test with ResNet or without ResNet to gauge its role in global feature extraction.\n",
        "2. Disable FPN to see its effect on local and relational feature accuracy.\n",
        "3. Vary FPN scales are used to assess the impact on detail levels of lesion detection.\n",
        "We will try to perform these experiments in the following sections."
      ]
    },
    {
      "cell_type": "markdown",
      "metadata": {
        "id": "WEEaVNB8FPv7"
      },
      "source": [
        "### ii. Study 1 - Comparing Performance With and Without ResNet\n",
        "\n",
        "#### 1. Experiment Setup\n",
        "- In this part of the study, we manipulated the `RESNET_ON` parameter, setting it to `False` to systematically alter the neural network architecture.\n",
        "- By substituting the standard ResNet model with a mock version, we could directly compare the impact of ResNet's presence on the model's performance.\n",
        "- This was done without modifying other network components, ensuring all variables remained consistent except for using ResNet.\n",
        "\n",
        "**_Note:_**\n",
        "- The fake ResNet model was designed to *replicate the structure* and *output dimensions* of the genuine **ResNet50** architecture, but instead of learned features, it outputs matrices *filled with zeros or ones*.\n",
        "- This approach allowed us to bypass extensive reconfiguration of subsequent layers and **maintain a controlled environment** for the experiment.\n",
        "\n",
        "#### 2. Call the Function to Train the Non-Resnet Model"
      ]
    },
    {
      "cell_type": "code",
      "execution_count": 17,
      "metadata": {
        "colab": {
          "base_uri": "https://localhost:8080/"
        },
        "id": "uOdhGrbwwG71",
        "outputId": "4047c7fe-6d8a-4c75-fcf1-c0ce07b2c2cc"
      },
      "outputs": [
        {
          "output_type": "stream",
          "name": "stdout",
          "text": [
            "ResNet is OFF\n"
          ]
        },
        {
          "output_type": "stream",
          "name": "stderr",
          "text": [
            "/usr/local/lib/python3.10/dist-packages/torch/optim/lr_scheduler.py:143: UserWarning: Detected call of `lr_scheduler.step()` before `optimizer.step()`. In PyTorch 1.1.0 and later, you should call them in the opposite order: `optimizer.step()` before `lr_scheduler.step()`.  Failure to do this will result in PyTorch skipping the first value of the learning rate schedule. See more details at https://pytorch.org/docs/stable/optim.html#how-to-adjust-learning-rate\n",
            "  warnings.warn(\"Detected call of `lr_scheduler.step()` before `optimizer.step()`. \"\n",
            "/usr/lib/python3.10/multiprocessing/popen_fork.py:66: RuntimeWarning: os.fork() was called. os.fork() is incompatible with multithreaded code, and JAX is multithreaded, so this will likely lead to a deadlock.\n",
            "  self.pid = os.fork()\n"
          ]
        },
        {
          "output_type": "stream",
          "name": "stdout",
          "text": [
            " [======================================>.]  Step: 94ms | Tot: 3s349ms | train  \b\b\b\b\b\b\b\b\b\b\b\b\b\b\b\b\b\b\b\b\b\b\b\b\b\b\b\b\b\b\b\b\b\b\b\b\b\b\b\b\b\b\b\b\b\b\b\b\b\b\b\b\b\b\b\b\b\b\b\b 27/27 \n",
            "0.26851851851851855\n",
            " [======================================>.]  Step: 56ms | Tot: 3s778ms | eval train set\b\b\b\b\b\b\b\b\b\b\b\b\b\b\b\b\b\b\b\b\b\b\b\b\b\b\b\b\b\b\b\b\b\b\b\b\b\b\b\b\b\b\b\b\b\b\b\b\b\b\b\b\b\b\b\b\b\b\b\b 28/28 \n",
            "auc: 0.5000\n"
          ]
        },
        {
          "output_type": "stream",
          "name": "stderr",
          "text": [
            "/usr/lib/python3.10/multiprocessing/popen_fork.py:66: RuntimeWarning: os.fork() was called. os.fork() is incompatible with multithreaded code, and JAX is multithreaded, so this will likely lead to a deadlock.\n",
            "  self.pid = os.fork()\n"
          ]
        },
        {
          "output_type": "stream",
          "name": "stdout",
          "text": [
            " [======================================>.]  Step: 90ms | Tot: 2s249ms | eval test set\b\b\b\b\b\b\b\b\b\b\b\b\b\b\b\b\b\b\b\b\b\b\b\b\b\b\b\b\b\b\b\b\b\b\b\b\b\b\b\b\b\b\b\b\b\b\b\b\b\b\b\b\b\b\b\b\b\b\b\b 21/21 \n"
          ]
        },
        {
          "output_type": "stream",
          "name": "stderr",
          "text": [
            "/usr/lib/python3.10/multiprocessing/popen_fork.py:66: RuntimeWarning: os.fork() was called. os.fork() is incompatible with multithreaded code, and JAX is multithreaded, so this will likely lead to a deadlock.\n",
            "  self.pid = os.fork()\n"
          ]
        },
        {
          "output_type": "stream",
          "name": "stdout",
          "text": [
            "auc: 0.5000\n"
          ]
        },
        {
          "output_type": "stream",
          "name": "stderr",
          "text": [
            "/usr/lib/python3.10/multiprocessing/popen_fork.py:66: RuntimeWarning: os.fork() was called. os.fork() is incompatible with multithreaded code, and JAX is multithreaded, so this will likely lead to a deadlock.\n",
            "  self.pid = os.fork()\n"
          ]
        },
        {
          "output_type": "stream",
          "name": "stdout",
          "text": [
            " [======================================>.]  Step: 99ms | Tot: 3s366ms | train  \b\b\b\b\b\b\b\b\b\b\b\b\b\b\b\b\b\b\b\b\b\b\b\b\b\b\b\b\b\b\b\b\b\b\b\b\b\b\b\b\b\b\b\b\b\b\b\b\b\b\b\b\b\b\b\b\b\b\b\b 27/27 \n"
          ]
        },
        {
          "output_type": "stream",
          "name": "stderr",
          "text": [
            "/usr/lib/python3.10/multiprocessing/popen_fork.py:66: RuntimeWarning: os.fork() was called. os.fork() is incompatible with multithreaded code, and JAX is multithreaded, so this will likely lead to a deadlock.\n",
            "  self.pid = os.fork()\n"
          ]
        },
        {
          "output_type": "stream",
          "name": "stdout",
          "text": [
            "0.26851851851851855\n",
            " [======================================>.]  Step: 72ms | Tot: 3s49ms | eval train set\b\b\b\b\b\b\b\b\b\b\b\b\b\b\b\b\b\b\b\b\b\b\b\b\b\b\b\b\b\b\b\b\b\b\b\b\b\b\b\b\b\b\b\b\b\b\b\b\b\b\b\b\b\b\b\b\b\b\b\b 28/28 \n",
            "auc: 0.5000\n"
          ]
        },
        {
          "output_type": "stream",
          "name": "stderr",
          "text": [
            "/usr/lib/python3.10/multiprocessing/popen_fork.py:66: RuntimeWarning: os.fork() was called. os.fork() is incompatible with multithreaded code, and JAX is multithreaded, so this will likely lead to a deadlock.\n",
            "  self.pid = os.fork()\n"
          ]
        },
        {
          "output_type": "stream",
          "name": "stdout",
          "text": [
            " [======================================>.]  Step: 88ms | Tot: 2s709ms | eval test set\b\b\b\b\b\b\b\b\b\b\b\b\b\b\b\b\b\b\b\b\b\b\b\b\b\b\b\b\b\b\b\b\b\b\b\b\b\b\b\b\b\b\b\b\b\b\b\b\b\b\b\b\b\b\b\b\b\b\b\b 21/21 \n",
            "auc: 0.5000\n"
          ]
        },
        {
          "output_type": "stream",
          "name": "stderr",
          "text": [
            "/usr/lib/python3.10/multiprocessing/popen_fork.py:66: RuntimeWarning: os.fork() was called. os.fork() is incompatible with multithreaded code, and JAX is multithreaded, so this will likely lead to a deadlock.\n",
            "  self.pid = os.fork()\n"
          ]
        },
        {
          "output_type": "stream",
          "name": "stdout",
          "text": [
            " [======================================>.]  Step: 96ms | Tot: 3s361ms | train  \b\b\b\b\b\b\b\b\b\b\b\b\b\b\b\b\b\b\b\b\b\b\b\b\b\b\b\b\b\b\b\b\b\b\b\b\b\b\b\b\b\b\b\b\b\b\b\b\b\b\b\b\b\b\b\b\b\b\b\b 27/27 \n"
          ]
        },
        {
          "output_type": "stream",
          "name": "stderr",
          "text": [
            "/usr/lib/python3.10/multiprocessing/popen_fork.py:66: RuntimeWarning: os.fork() was called. os.fork() is incompatible with multithreaded code, and JAX is multithreaded, so this will likely lead to a deadlock.\n",
            "  self.pid = os.fork()\n"
          ]
        },
        {
          "output_type": "stream",
          "name": "stdout",
          "text": [
            "0.26851851851851855\n",
            " [======================================>.]  Step: 61ms | Tot: 3s27ms | eval train set\b\b\b\b\b\b\b\b\b\b\b\b\b\b\b\b\b\b\b\b\b\b\b\b\b\b\b\b\b\b\b\b\b\b\b\b\b\b\b\b\b\b\b\b\b\b\b\b\b\b\b\b\b\b\b\b\b\b\b\b 28/28 \n",
            "auc: 0.5000\n"
          ]
        },
        {
          "output_type": "stream",
          "name": "stderr",
          "text": [
            "/usr/lib/python3.10/multiprocessing/popen_fork.py:66: RuntimeWarning: os.fork() was called. os.fork() is incompatible with multithreaded code, and JAX is multithreaded, so this will likely lead to a deadlock.\n",
            "  self.pid = os.fork()\n"
          ]
        },
        {
          "output_type": "stream",
          "name": "stdout",
          "text": [
            " [======================================>.]  Step: 99ms | Tot: 2s618ms | eval test set\b\b\b\b\b\b\b\b\b\b\b\b\b\b\b\b\b\b\b\b\b\b\b\b\b\b\b\b\b\b\b\b\b\b\b\b\b\b\b\b\b\b\b\b\b\b\b\b\b\b\b\b\b\b\b\b\b\b\b\b 21/21 \n"
          ]
        },
        {
          "output_type": "stream",
          "name": "stderr",
          "text": [
            "/usr/lib/python3.10/multiprocessing/popen_fork.py:66: RuntimeWarning: os.fork() was called. os.fork() is incompatible with multithreaded code, and JAX is multithreaded, so this will likely lead to a deadlock.\n",
            "  self.pid = os.fork()\n"
          ]
        },
        {
          "output_type": "stream",
          "name": "stdout",
          "text": [
            "auc: 0.5000\n"
          ]
        },
        {
          "output_type": "stream",
          "name": "stderr",
          "text": [
            "/usr/lib/python3.10/multiprocessing/popen_fork.py:66: RuntimeWarning: os.fork() was called. os.fork() is incompatible with multithreaded code, and JAX is multithreaded, so this will likely lead to a deadlock.\n",
            "  self.pid = os.fork()\n"
          ]
        },
        {
          "output_type": "stream",
          "name": "stdout",
          "text": [
            " [======================================>.]  Step: 102ms | Tot: 3s620ms | train \b\b\b\b\b\b\b\b\b\b\b\b\b\b\b\b\b\b\b\b\b\b\b\b\b\b\b\b\b\b\b\b\b\b\b\b\b\b\b\b\b\b\b\b\b\b\b\b\b\b\b\b\b\b\b\b\b\b\b\b 27/27 \n"
          ]
        },
        {
          "output_type": "stream",
          "name": "stderr",
          "text": [
            "/usr/lib/python3.10/multiprocessing/popen_fork.py:66: RuntimeWarning: os.fork() was called. os.fork() is incompatible with multithreaded code, and JAX is multithreaded, so this will likely lead to a deadlock.\n",
            "  self.pid = os.fork()\n"
          ]
        },
        {
          "output_type": "stream",
          "name": "stdout",
          "text": [
            "0.26851851851851855\n",
            " [======================================>.]  Step: 53ms | Tot: 2s977ms | eval train set\b\b\b\b\b\b\b\b\b\b\b\b\b\b\b\b\b\b\b\b\b\b\b\b\b\b\b\b\b\b\b\b\b\b\b\b\b\b\b\b\b\b\b\b\b\b\b\b\b\b\b\b\b\b\b\b\b\b\b\b 28/28 \n",
            "auc: 0.5000\n"
          ]
        },
        {
          "output_type": "stream",
          "name": "stderr",
          "text": [
            "/usr/lib/python3.10/multiprocessing/popen_fork.py:66: RuntimeWarning: os.fork() was called. os.fork() is incompatible with multithreaded code, and JAX is multithreaded, so this will likely lead to a deadlock.\n",
            "  self.pid = os.fork()\n"
          ]
        },
        {
          "output_type": "stream",
          "name": "stdout",
          "text": [
            " [======================================>.]  Step: 84ms | Tot: 2s179ms | eval test set\b\b\b\b\b\b\b\b\b\b\b\b\b\b\b\b\b\b\b\b\b\b\b\b\b\b\b\b\b\b\b\b\b\b\b\b\b\b\b\b\b\b\b\b\b\b\b\b\b\b\b\b\b\b\b\b\b\b\b\b 21/21 \n"
          ]
        },
        {
          "output_type": "stream",
          "name": "stderr",
          "text": [
            "/usr/lib/python3.10/multiprocessing/popen_fork.py:66: RuntimeWarning: os.fork() was called. os.fork() is incompatible with multithreaded code, and JAX is multithreaded, so this will likely lead to a deadlock.\n",
            "  self.pid = os.fork()\n"
          ]
        },
        {
          "output_type": "stream",
          "name": "stdout",
          "text": [
            "auc: 0.5000\n"
          ]
        },
        {
          "output_type": "stream",
          "name": "stderr",
          "text": [
            "/usr/lib/python3.10/multiprocessing/popen_fork.py:66: RuntimeWarning: os.fork() was called. os.fork() is incompatible with multithreaded code, and JAX is multithreaded, so this will likely lead to a deadlock.\n",
            "  self.pid = os.fork()\n"
          ]
        },
        {
          "output_type": "stream",
          "name": "stdout",
          "text": [
            " [======================================>.]  Step: 108ms | Tot: 4s300ms | train \b\b\b\b\b\b\b\b\b\b\b\b\b\b\b\b\b\b\b\b\b\b\b\b\b\b\b\b\b\b\b\b\b\b\b\b\b\b\b\b\b\b\b\b\b\b\b\b\b\b\b\b\b\b\b\b\b\b\b\b 27/27 \n"
          ]
        },
        {
          "output_type": "stream",
          "name": "stderr",
          "text": [
            "/usr/lib/python3.10/multiprocessing/popen_fork.py:66: RuntimeWarning: os.fork() was called. os.fork() is incompatible with multithreaded code, and JAX is multithreaded, so this will likely lead to a deadlock.\n",
            "  self.pid = os.fork()\n"
          ]
        },
        {
          "output_type": "stream",
          "name": "stdout",
          "text": [
            "0.26851851851851855\n",
            " [======================================>.]  Step: 60ms | Tot: 2s942ms | eval train set\b\b\b\b\b\b\b\b\b\b\b\b\b\b\b\b\b\b\b\b\b\b\b\b\b\b\b\b\b\b\b\b\b\b\b\b\b\b\b\b\b\b\b\b\b\b\b\b\b\b\b\b\b\b\b\b\b\b\b\b 28/28 \n",
            "auc: 0.5000\n"
          ]
        },
        {
          "output_type": "stream",
          "name": "stderr",
          "text": [
            "/usr/lib/python3.10/multiprocessing/popen_fork.py:66: RuntimeWarning: os.fork() was called. os.fork() is incompatible with multithreaded code, and JAX is multithreaded, so this will likely lead to a deadlock.\n",
            "  self.pid = os.fork()\n"
          ]
        },
        {
          "output_type": "stream",
          "name": "stdout",
          "text": [
            " [======================================>.]  Step: 87ms | Tot: 2s231ms | eval test set\b\b\b\b\b\b\b\b\b\b\b\b\b\b\b\b\b\b\b\b\b\b\b\b\b\b\b\b\b\b\b\b\b\b\b\b\b\b\b\b\b\b\b\b\b\b\b\b\b\b\b\b\b\b\b\b\b\b\b\b 21/21 \n"
          ]
        },
        {
          "output_type": "stream",
          "name": "stderr",
          "text": [
            "/usr/lib/python3.10/multiprocessing/popen_fork.py:66: RuntimeWarning: os.fork() was called. os.fork() is incompatible with multithreaded code, and JAX is multithreaded, so this will likely lead to a deadlock.\n",
            "  self.pid = os.fork()\n"
          ]
        },
        {
          "output_type": "stream",
          "name": "stdout",
          "text": [
            "auc: 0.5000\n",
            "finishing training\n"
          ]
        }
      ],
      "source": [
        "# compare you model with others\n",
        "RESNET_ON=False\n",
        "\n",
        "initialize_training()\n",
        "\n",
        "# Start the training process\n",
        "compare_results = train(net=net,\n",
        "             batch_size=BATCH_SIZE,\n",
        "             proposal_num=PROPOSAL_NUM,\n",
        "             save_freq=SAVE_FREQ,\n",
        "             lr=LR,\n",
        "             wd=WD,\n",
        "             save_directory=save_dir,\n",
        "             resume_file=resume,\n",
        "             end_epoch=END_EPOCH,\n",
        "             RESNET_ON=False)"
      ]
    },
    {
      "cell_type": "markdown",
      "metadata": {
        "id": "U678fOdxED3P"
      },
      "source": [
        "#### 3. Display Results"
      ]
    },
    {
      "cell_type": "code",
      "execution_count": 18,
      "metadata": {
        "colab": {
          "base_uri": "https://localhost:8080/",
          "height": 667
        },
        "id": "R0TasglD51yF",
        "outputId": "c233f5f8-8402-4ed2-bd55-885750d3ad82"
      },
      "outputs": [
        {
          "output_type": "stream",
          "name": "stdout",
          "text": [
            "RESNET vs. Non-RESNET Comparison\n"
          ]
        },
        {
          "output_type": "display_data",
          "data": {
            "text/plain": [
              "           ResNet Loss Non-ResNet Loss ResNet Accuracy Non-ResNet Accuracy\n",
              "Training        0.7551          0.6933          46.36%              26.36%\n",
              "Validation      0.6835          0.6932          60.71%              33.33%"
            ],
            "text/html": [
              "\n",
              "  <div id=\"df-e93fbb75-44b0-4339-a399-7f1a1c568e33\" class=\"colab-df-container\">\n",
              "    <div>\n",
              "<style scoped>\n",
              "    .dataframe tbody tr th:only-of-type {\n",
              "        vertical-align: middle;\n",
              "    }\n",
              "\n",
              "    .dataframe tbody tr th {\n",
              "        vertical-align: top;\n",
              "    }\n",
              "\n",
              "    .dataframe thead th {\n",
              "        text-align: right;\n",
              "    }\n",
              "</style>\n",
              "<table border=\"1\" class=\"dataframe\">\n",
              "  <thead>\n",
              "    <tr style=\"text-align: right;\">\n",
              "      <th></th>\n",
              "      <th>ResNet Loss</th>\n",
              "      <th>Non-ResNet Loss</th>\n",
              "      <th>ResNet Accuracy</th>\n",
              "      <th>Non-ResNet Accuracy</th>\n",
              "    </tr>\n",
              "  </thead>\n",
              "  <tbody>\n",
              "    <tr>\n",
              "      <th>Training</th>\n",
              "      <td>0.7551</td>\n",
              "      <td>0.6933</td>\n",
              "      <td>46.36%</td>\n",
              "      <td>26.36%</td>\n",
              "    </tr>\n",
              "    <tr>\n",
              "      <th>Validation</th>\n",
              "      <td>0.6835</td>\n",
              "      <td>0.6932</td>\n",
              "      <td>60.71%</td>\n",
              "      <td>33.33%</td>\n",
              "    </tr>\n",
              "  </tbody>\n",
              "</table>\n",
              "</div>\n",
              "    <div class=\"colab-df-buttons\">\n",
              "\n",
              "  <div class=\"colab-df-container\">\n",
              "    <button class=\"colab-df-convert\" onclick=\"convertToInteractive('df-e93fbb75-44b0-4339-a399-7f1a1c568e33')\"\n",
              "            title=\"Convert this dataframe to an interactive table.\"\n",
              "            style=\"display:none;\">\n",
              "\n",
              "  <svg xmlns=\"http://www.w3.org/2000/svg\" height=\"24px\" viewBox=\"0 -960 960 960\">\n",
              "    <path d=\"M120-120v-720h720v720H120Zm60-500h600v-160H180v160Zm220 220h160v-160H400v160Zm0 220h160v-160H400v160ZM180-400h160v-160H180v160Zm440 0h160v-160H620v160ZM180-180h160v-160H180v160Zm440 0h160v-160H620v160Z\"/>\n",
              "  </svg>\n",
              "    </button>\n",
              "\n",
              "  <style>\n",
              "    .colab-df-container {\n",
              "      display:flex;\n",
              "      gap: 12px;\n",
              "    }\n",
              "\n",
              "    .colab-df-convert {\n",
              "      background-color: #E8F0FE;\n",
              "      border: none;\n",
              "      border-radius: 50%;\n",
              "      cursor: pointer;\n",
              "      display: none;\n",
              "      fill: #1967D2;\n",
              "      height: 32px;\n",
              "      padding: 0 0 0 0;\n",
              "      width: 32px;\n",
              "    }\n",
              "\n",
              "    .colab-df-convert:hover {\n",
              "      background-color: #E2EBFA;\n",
              "      box-shadow: 0px 1px 2px rgba(60, 64, 67, 0.3), 0px 1px 3px 1px rgba(60, 64, 67, 0.15);\n",
              "      fill: #174EA6;\n",
              "    }\n",
              "\n",
              "    .colab-df-buttons div {\n",
              "      margin-bottom: 4px;\n",
              "    }\n",
              "\n",
              "    [theme=dark] .colab-df-convert {\n",
              "      background-color: #3B4455;\n",
              "      fill: #D2E3FC;\n",
              "    }\n",
              "\n",
              "    [theme=dark] .colab-df-convert:hover {\n",
              "      background-color: #434B5C;\n",
              "      box-shadow: 0px 1px 3px 1px rgba(0, 0, 0, 0.15);\n",
              "      filter: drop-shadow(0px 1px 2px rgba(0, 0, 0, 0.3));\n",
              "      fill: #FFFFFF;\n",
              "    }\n",
              "  </style>\n",
              "\n",
              "    <script>\n",
              "      const buttonEl =\n",
              "        document.querySelector('#df-e93fbb75-44b0-4339-a399-7f1a1c568e33 button.colab-df-convert');\n",
              "      buttonEl.style.display =\n",
              "        google.colab.kernel.accessAllowed ? 'block' : 'none';\n",
              "\n",
              "      async function convertToInteractive(key) {\n",
              "        const element = document.querySelector('#df-e93fbb75-44b0-4339-a399-7f1a1c568e33');\n",
              "        const dataTable =\n",
              "          await google.colab.kernel.invokeFunction('convertToInteractive',\n",
              "                                                    [key], {});\n",
              "        if (!dataTable) return;\n",
              "\n",
              "        const docLinkHtml = 'Like what you see? Visit the ' +\n",
              "          '<a target=\"_blank\" href=https://colab.research.google.com/notebooks/data_table.ipynb>data table notebook</a>'\n",
              "          + ' to learn more about interactive tables.';\n",
              "        element.innerHTML = '';\n",
              "        dataTable['output_type'] = 'display_data';\n",
              "        await google.colab.output.renderOutput(dataTable, element);\n",
              "        const docLink = document.createElement('div');\n",
              "        docLink.innerHTML = docLinkHtml;\n",
              "        element.appendChild(docLink);\n",
              "      }\n",
              "    </script>\n",
              "  </div>\n",
              "\n",
              "\n",
              "<div id=\"df-abd42d9e-3a47-4520-947e-5965d2c83666\">\n",
              "  <button class=\"colab-df-quickchart\" onclick=\"quickchart('df-abd42d9e-3a47-4520-947e-5965d2c83666')\"\n",
              "            title=\"Suggest charts\"\n",
              "            style=\"display:none;\">\n",
              "\n",
              "<svg xmlns=\"http://www.w3.org/2000/svg\" height=\"24px\"viewBox=\"0 0 24 24\"\n",
              "     width=\"24px\">\n",
              "    <g>\n",
              "        <path d=\"M19 3H5c-1.1 0-2 .9-2 2v14c0 1.1.9 2 2 2h14c1.1 0 2-.9 2-2V5c0-1.1-.9-2-2-2zM9 17H7v-7h2v7zm4 0h-2V7h2v10zm4 0h-2v-4h2v4z\"/>\n",
              "    </g>\n",
              "</svg>\n",
              "  </button>\n",
              "\n",
              "<style>\n",
              "  .colab-df-quickchart {\n",
              "      --bg-color: #E8F0FE;\n",
              "      --fill-color: #1967D2;\n",
              "      --hover-bg-color: #E2EBFA;\n",
              "      --hover-fill-color: #174EA6;\n",
              "      --disabled-fill-color: #AAA;\n",
              "      --disabled-bg-color: #DDD;\n",
              "  }\n",
              "\n",
              "  [theme=dark] .colab-df-quickchart {\n",
              "      --bg-color: #3B4455;\n",
              "      --fill-color: #D2E3FC;\n",
              "      --hover-bg-color: #434B5C;\n",
              "      --hover-fill-color: #FFFFFF;\n",
              "      --disabled-bg-color: #3B4455;\n",
              "      --disabled-fill-color: #666;\n",
              "  }\n",
              "\n",
              "  .colab-df-quickchart {\n",
              "    background-color: var(--bg-color);\n",
              "    border: none;\n",
              "    border-radius: 50%;\n",
              "    cursor: pointer;\n",
              "    display: none;\n",
              "    fill: var(--fill-color);\n",
              "    height: 32px;\n",
              "    padding: 0;\n",
              "    width: 32px;\n",
              "  }\n",
              "\n",
              "  .colab-df-quickchart:hover {\n",
              "    background-color: var(--hover-bg-color);\n",
              "    box-shadow: 0 1px 2px rgba(60, 64, 67, 0.3), 0 1px 3px 1px rgba(60, 64, 67, 0.15);\n",
              "    fill: var(--button-hover-fill-color);\n",
              "  }\n",
              "\n",
              "  .colab-df-quickchart-complete:disabled,\n",
              "  .colab-df-quickchart-complete:disabled:hover {\n",
              "    background-color: var(--disabled-bg-color);\n",
              "    fill: var(--disabled-fill-color);\n",
              "    box-shadow: none;\n",
              "  }\n",
              "\n",
              "  .colab-df-spinner {\n",
              "    border: 2px solid var(--fill-color);\n",
              "    border-color: transparent;\n",
              "    border-bottom-color: var(--fill-color);\n",
              "    animation:\n",
              "      spin 1s steps(1) infinite;\n",
              "  }\n",
              "\n",
              "  @keyframes spin {\n",
              "    0% {\n",
              "      border-color: transparent;\n",
              "      border-bottom-color: var(--fill-color);\n",
              "      border-left-color: var(--fill-color);\n",
              "    }\n",
              "    20% {\n",
              "      border-color: transparent;\n",
              "      border-left-color: var(--fill-color);\n",
              "      border-top-color: var(--fill-color);\n",
              "    }\n",
              "    30% {\n",
              "      border-color: transparent;\n",
              "      border-left-color: var(--fill-color);\n",
              "      border-top-color: var(--fill-color);\n",
              "      border-right-color: var(--fill-color);\n",
              "    }\n",
              "    40% {\n",
              "      border-color: transparent;\n",
              "      border-right-color: var(--fill-color);\n",
              "      border-top-color: var(--fill-color);\n",
              "    }\n",
              "    60% {\n",
              "      border-color: transparent;\n",
              "      border-right-color: var(--fill-color);\n",
              "    }\n",
              "    80% {\n",
              "      border-color: transparent;\n",
              "      border-right-color: var(--fill-color);\n",
              "      border-bottom-color: var(--fill-color);\n",
              "    }\n",
              "    90% {\n",
              "      border-color: transparent;\n",
              "      border-bottom-color: var(--fill-color);\n",
              "    }\n",
              "  }\n",
              "</style>\n",
              "\n",
              "  <script>\n",
              "    async function quickchart(key) {\n",
              "      const quickchartButtonEl =\n",
              "        document.querySelector('#' + key + ' button');\n",
              "      quickchartButtonEl.disabled = true;  // To prevent multiple clicks.\n",
              "      quickchartButtonEl.classList.add('colab-df-spinner');\n",
              "      try {\n",
              "        const charts = await google.colab.kernel.invokeFunction(\n",
              "            'suggestCharts', [key], {});\n",
              "      } catch (error) {\n",
              "        console.error('Error during call to suggestCharts:', error);\n",
              "      }\n",
              "      quickchartButtonEl.classList.remove('colab-df-spinner');\n",
              "      quickchartButtonEl.classList.add('colab-df-quickchart-complete');\n",
              "    }\n",
              "    (() => {\n",
              "      let quickchartButtonEl =\n",
              "        document.querySelector('#df-abd42d9e-3a47-4520-947e-5965d2c83666 button');\n",
              "      quickchartButtonEl.style.display =\n",
              "        google.colab.kernel.accessAllowed ? 'block' : 'none';\n",
              "    })();\n",
              "  </script>\n",
              "</div>\n",
              "    </div>\n",
              "  </div>\n"
            ],
            "application/vnd.google.colaboratory.intrinsic+json": {
              "type": "dataframe",
              "summary": "{\n  \"name\": \"                  compare_val_accuracies=compare_results['test_accuracies'])\",\n  \"rows\": 2,\n  \"fields\": [\n    {\n      \"column\": \"ResNet Loss\",\n      \"properties\": {\n        \"dtype\": \"string\",\n        \"num_unique_values\": 2,\n        \"samples\": [\n          \"0.6835\",\n          \"0.7551\"\n        ],\n        \"semantic_type\": \"\",\n        \"description\": \"\"\n      }\n    },\n    {\n      \"column\": \"Non-ResNet Loss\",\n      \"properties\": {\n        \"dtype\": \"string\",\n        \"num_unique_values\": 2,\n        \"samples\": [\n          \"0.6932\",\n          \"0.6933\"\n        ],\n        \"semantic_type\": \"\",\n        \"description\": \"\"\n      }\n    },\n    {\n      \"column\": \"ResNet Accuracy\",\n      \"properties\": {\n        \"dtype\": \"string\",\n        \"num_unique_values\": 2,\n        \"samples\": [\n          \"60.71%\",\n          \"46.36%\"\n        ],\n        \"semantic_type\": \"\",\n        \"description\": \"\"\n      }\n    },\n    {\n      \"column\": \"Non-ResNet Accuracy\",\n      \"properties\": {\n        \"dtype\": \"string\",\n        \"num_unique_values\": 2,\n        \"samples\": [\n          \"33.33%\",\n          \"26.36%\"\n        ],\n        \"semantic_type\": \"\",\n        \"description\": \"\"\n      }\n    }\n  ]\n}"
            }
          },
          "metadata": {}
        },
        {
          "output_type": "stream",
          "name": "stdout",
          "text": [
            "Test Model AUC:  0.9222\n",
            "Note: The test data is based on Pre-Trained Model\n",
            "\n",
            "Here are the diagrams for the overall trend when training/validating data.\n"
          ]
        },
        {
          "output_type": "display_data",
          "data": {
            "text/plain": [
              "<Figure size 1200x500 with 2 Axes>"
            ],
            "image/png": "[encoded data removed]"
          },
          "metadata": {}
        }
      ],
      "source": [
        "summarize_results(training_results['train_losses'],\n",
        "                  training_results['test_losses'],\n",
        "                  training_results['train_accuracies'],\n",
        "                  training_results['test_accuracies'],\n",
        "                  test_results=test_results,\n",
        "                  display_mode=2,\n",
        "                  compare_train_losses=compare_results['train_losses'],\n",
        "                  compare_val_losses=compare_results['test_losses'],\n",
        "                  compare_train_accuracies=compare_results['train_accuracies'],\n",
        "                  compare_val_accuracies=compare_results['test_accuracies'])"
      ]
    },
    {
      "cell_type": "markdown",
      "metadata": {
        "id": "IYLyKvFIEOQs"
      },
      "source": [
        "#### 4. Discussion\n",
        "Based on the results, we can conclude that the RESNET is the **critical** component of the model. Without it, the model didn’t learn anything.\n",
        "<br> Here are more detailed findings and discussions:\n",
        "##### (1) Non-ResNet Model Observations:\n",
        "- The Non-ResNet model’s **high or low accuracy** is not due to the model’s predictive power but rather the **class imbalance** in the dataset. Since it randomly predicts the positive/negative class (positive/negative for COVID), and the dataset is imbalanced with a higher proportion of positive cases, the accuracy metric becomes artificially inflated, or if it blindly predicts all as negative, the accuracy becomes relatively low.\n",
        "- This behavior highlights the **limitation of using accuracy as a sole metric** in imbalanced datasets. Metrics like **precision, recall, F1-score**, or **AUC-ROC** would give a more informative picture of the model’s performance.\n",
        "\n",
        "##### (2) ResNet Model Observations:\n",
        "- The ResNet model shows **initial learning trends** with fluctuating losses and accuracies, suggesting the model is responsive to the data. However, since only a **fraction of the data and epochs** (5 rather than 500) were used, we observe an **abbreviated snapshot** of the training process.\n",
        "- The **drop in validation accuracy** while training accuracy increases could indicate the model has started to overfit to the training data. With more epochs, we might expect this gap to widen without intervention.\n",
        "- Due to limited training on a **subset of the entire dataset**, the model’s true capacity to learn and generalize is not fully realized. The **limited hardware (GPU) resources** have constrained the depth of training, potentially leading to an **undertrained model**.\n",
        "\n",
        "##### (3) Discussion and Further Considerations:\n",
        "- The **Non-ResNet model’s high/low accuracy** is a false performance indicator, showing that it’s a fake model designed not to learn and that the dataset is imbalanced.\n",
        "- The **ResNet model’s early training signs** could be promising, but it is likely **too early in the training process** to make definitive claims about its performance.\n",
        "- To further this study, using the **full dataset** and a more comprehensive set of epochs for training would be ideal, along with a suite of evaluation metrics that can better handle **class imbalance**.\n",
        "- Future training should incorporate strategies for overfitting, such as **regularization, data augmentation**, or using a more complex model if the computational resources allow.\n",
        "\n",
        "**In conclusion**, the Non-ResNet model serves as a control showing the impact of dataset imbalance on accuracy. In contrast, the ResNet model’s limited training offers only preliminary insights that require further investigation with extended training and more robust evaluation metrics.\n",
        "\n",
        "**The final takeaway** is that the ResNet model seems to be **learning and adapting to the data**, albeit with signs of overfitting. In contrast, the Non-ResNet model’s performance is static and likely **non-learning**, which aligns with its description as a fake model.\n",
        "<br>Thus, the ResNet is the **critical** component of the model and shall NOT be removed.\n",
        "\n",
        "### Study 2: Challenges of Disabling FPN\n",
        "We decided NOT to perform the ablation experiment. Our considerations are as follows:\n",
        "- **Technical Challenges**:\n",
        "  - Disabling the Feature Pyramid Network (FPN) is technically challenging due to its deep integration into the model for multi-scale feature extraction. Removing FPN would necessitate extensive modifications to the architecture, potentially affecting the stability of feature extraction.\n",
        "- **Impact on Model Efficacy**:\n",
        "  - FPN enhances lesion detection at various scales. Without FPN, the model’s ability to accurately identify and localize crucial diagnostic features for COVID-19 would be severely impaired, diminishing its diagnostic effectiveness.\n",
        "- **Resource Constraints**:\n",
        "  - Adapting the model to operate effectively without FPN could require significant additional resources. Under current computational constraints, developing and testing a modified architecture that compensates for the absence of FPN is impractical.\n",
        "- **Data Compatibility**:\n",
        "  - The existing data pipeline is tailored for a model incorporating FPN. Altering the model to function without FPN would necessitate a comprehensive re-optimization of the data processing steps to suit the new model’s requirements.\n",
        "\n",
        "### Study 3: Varying FPN Scales\n",
        "We decided NOT to perform the ablation experiment. Our considerations are as follows:\n",
        "- **Complex Parameter Tuning**:\n",
        "  - Adjusting FPN scales involves a complex tuning process of numerous parameters. The vast parameter space requires extensive experimentation to identify optimal scale adjustments, a task beyond our current experimental capabilities.\n",
        "- **Data Diversity**:\n",
        "  - The available dataset may lack sufficient diversity in lesion sizes to test and justify the impact of varying FPN scales effectively. Without a broad range of lesion sizes, the potential benefits of scale variation cannot be fully assessed.\n",
        "- **Experimental Design Challenges**:\n",
        "  - Designing a controlled experiment to isolate the effects of FPN scale variations presents significant challenges. Adjusting scales requires a meticulous approach while keeping other model parameters and training conditions consistent.\n",
        "- **Computational Overhead**:\n",
        "  - Altering scales within FPN significantly increases computational demands. Given the current resource limitations, this hinders a comprehensive exploration of scale variation benefits.\n",
        "\n",
        "### Conclusion\n",
        "- **Future Directions**:\n",
        "  - With more computing resources and a refined experimental design, future research might overcome the current limitations, enhancing our understanding of the FPN’s role and its optimization within the model."
      ]
    },
    {
      "cell_type": "markdown",
      "metadata": {
        "id": "qH75TNU71eRH"
      },
      "source": [
        "# Discussion\n",
        "\n",
        "## I. Implications of the Experimental Results\n",
        "\n",
        "### i. Reproducibility Challenges\n",
        "- **Mixed Success**: Reproducing the original study's results presented mixed success, highlighting challenges in replicability.\n",
        "- **Ease of Conceptual Replication**: The conceptual framework and model architecture were replicated straightforwardly.\n",
        "- **Challenges in Exact Replication**:\n",
        "  - Specific data preprocessing requirements, hardware configurations, and potentially undocumented hyperparameters led to variable outcomes.\n",
        "  - This variability suggests that reproducing identical results may require conditions not fully detailed in the original documentation.\n",
        "\n",
        "### ii. Experimentation Conditions\n",
        "- **Role of Conditions**: The conditions under which experiments are conducted significantly impact the reproducibility of research.\n",
        "- **Undisclosed Parameters**:\n",
        "  - The original study may have utilized finely tuned parameters and computational resources that were not fully disclosed, complicating exact replication.\n",
        "  - This scenario is common in computational research, where the experimental environment critically influences outcomes.\n",
        "- **Need for Detailed Documentation**:\n",
        "  - Comprehensive documentation of all experiment facets, including software versions, hardware specifics, and dataset details, enhances reproducibility.\n",
        "\n",
        "### iii. Transparency and Documentation\n",
        "- **Enhancing Transparency**: Future studies could benefit from an increased focus on transparency and detailed documentation.\n",
        "- **Documentation Recommendations**:\n",
        "  - Detailed appendices or supplementary materials should outline the computational environment, data curation steps, and precise parameter settings.\n",
        "  - Sharing complete codebases, including all dependencies in a containerized environment like Docker, could help reduce discrepancies due to different setups.\n",
        "- **Benefits**:\n",
        "  - Such detailed documentation would strengthen the ability of other researchers to reproduce results accurately.\n",
        "  - It would also aid in building cumulative scientific knowledge confidently and transparently."
      ]
    },
    {
      "cell_type": "markdown",
      "metadata": {
        "id": "kRTA7hJoFPv8"
      },
      "source": [
        "## II. Describe “What was easy” and “What was difficult” during the reproduction.\n",
        "\n",
        "### i. What was Easy:\n",
        "- **Code Clarity**: The original codebase was well-organized, which made understanding the underlying logic and structure more accessible.\n",
        "- **Preprocessed Data and Pretrained Models**: The availability of preprocessed images (covid/non-covid) and pre-trained models provide a smooth start with the reproduction, allowing easier testing and benchmarking.\n",
        "- **Framework Support**: With its comprehensive documentation and community support, the PyTorch framework provided a robust foundation for model manipulation and experimentation.\n",
        "\n",
        "### ii. What was Difficult:\n",
        "- **Hardware Requirements**: The high demand for computational resources makes me spend extra time creating a `demo_mode`, limiting the experiment to a subset of images and fewer training epochs.\n",
        "- **Local Environment Configurations**: When configuring the local environment for GPU with CUDA, I spent lots of time working around the CUDA toolkit version, the PyTorch-supported version, environment variables in Windows, and the Python environment.\n",
        "- **Library Version Incompatibilities**: The lack of specified library versions led to time spent on debugging and syntax correction due to changes in script syntax in newer library releases.\n",
        "- **Notebook Structuring**: Creating a well-structured Jupyter Notebook that included thorough explanations and context took me significant effort and time.\n",
        "- **Ablation Experiment Design**: Developing the fake ResNet for ablation studies required additional effort for innovation and careful planning to simulate the model behavior accurately.\n",
        "- **Evaluation logic**: Designing and implementing evaluation functions and result summarization code added complexity, especially to support various settings like ResNet versus Non-ResNet mode comparisons.\n",
        "\n",
        "**In summary**, while the ease of understanding the original code and the ready-to-use nature of data and models facilitated the replication process, it was contrasted by the substantial difficulties related to hardware limitations, software versioning, and the need for additional coding to meet the comprehensive requirements of the final report."
      ]
    },
    {
      "cell_type": "markdown",
      "metadata": {
        "id": "Ymj4y8BdFPv8"
      },
      "source": [
        "## III. Recommendations for Improving Reproducibility\n",
        "To enhance the reproducibility of this study and future work in this domain, we suggest the following actions:\n",
        "\n",
        "- **Library Versions**: Clearly list all library versions in a `requirements.txt` to avoid incompatibility issues.\n",
        "- **Hardware Considerations**: Offer models optimized for lower computational resources or include a demo mode for broader accessibility.\n",
        "- **Environment Setup**: Provide a detailed setup guide, including Docker containers, to ensure a consistent environment.\n",
        "- **Ablation Study Framework**: Share guidelines and tools to support the effective execution of ablation studies.\n",
        "- **Result Summarization**: Develop user-friendly tools for automated evaluation and result display to facilitate easier comparison and interpretation."
      ]
    },
    {
      "cell_type": "markdown",
      "metadata": {
        "id": "cOShTBLOzMxT"
      },
      "source": [
        "# Public GitHub Repo\n",
        "Here's the link to the GitHub Repo for our project:\n",
        "- https://github.com/YuanlongZHANG96/COVID19-CT-Team_16"
      ]
    },
    {
      "cell_type": "markdown",
      "metadata": {
        "id": "SHMI2chl9omn"
      },
      "source": [
        "# References\n",
        "\n",
        "1.   Song Y, Zheng S, Li L, Zhang X, Zhang X, Huang Z, Chen J, Wang R, Zhao H, Chong Y, Shen J, Zha Y, Yang Y. Deep Learning Enables Accurate Diagnosis of Novel Coronavirus (COVID-19) With CT Images. IEEE/ACM Trans Comput Biol Bioinform. 2021 Nov-Dec;18(6):2775-2780. doi: 10.1109/TCBB.2021.3065361. Epub 2021 Dec 8. PMID: 33705321; PMCID: PMC8851430.\n",
        "\n"
      ]
    }
  ],
  "metadata": {
    "accelerator": "GPU",
    "colab": {
      "gpuType": "T4",
      "provenance": [],
      "toc_visible": true
    },
    "kernelspec": {
      "display_name": "Python 3",
      "name": "python3"
    },
    "language_info": {
      "codemirror_mode": {
        "name": "ipython",
        "version": 3
      },
      "file_extension": ".py",
      "mimetype": "text/x-python",
      "name": "python",
      "nbconvert_exporter": "python",
      "pygments_lexer": "ipython3",
      "version": "3.8.8"
    }
  },
  "nbformat": 4,
  "nbformat_minor": 0
}